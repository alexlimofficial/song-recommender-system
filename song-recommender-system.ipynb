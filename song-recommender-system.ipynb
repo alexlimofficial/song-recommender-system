{
 "cells": [
  {
   "cell_type": "markdown",
   "metadata": {
    "colab_type": "text",
    "id": "Fbo1ZLU3N-9A"
   },
   "source": [
    "# Song Data Analysis and Recommendation System"
   ]
  },
  {
   "cell_type": "markdown",
   "metadata": {
    "colab_type": "text",
    "id": "B7ujhM4bODkn"
   },
   "source": [
    "## Goal\n",
    "\n",
    "Company XYZ is a very early stage startup. They allow people to stream music from their mobile phone for free. Right now, they still only have songs from the Beatles in their music collection, but they are planning to expand soon.\n",
    "\n",
    "They still have all their data in json files and they are interested in getting some basic info about their users as well as building a very preliminary song recommendation model in order to increase user engagement. \n",
    "\n",
    "Working with json files is important. If you join a very early stage start-up, they might not have a nice database and all data will be in jsons. Third party data are often stored in json files as well."
   ]
  },
  {
   "cell_type": "markdown",
   "metadata": {
    "colab_type": "text",
    "id": "6EusnKj4OYMJ"
   },
   "source": [
    "## Challenge Description\n",
    "\n",
    "You are the fifth employee at company XYZ. The good news is that if the company becomes big, you will become very rich with the stocks. The bad news is that, at such an early stage, they data is usually very messy. All their data is stored in json files.\n",
    "\n",
    "The company CEO asked you very specific questions:\n",
    "- What are the top 3 and the bottom 3 states in terms of number of users?\n",
    "- What are the top 3 and the bottom 3 states in terms of user engagement? You can choose how to mathematically define user engagement. What the CEO cares about here is in which states users are using the product a lot/very little.\n",
    "- The CEO wants to send a gift to the first user woh signed up for each state. That is, the first user who signed up from California, from Oregon, etc. Can you give him a list of those users?\n",
    "- Build a function that takes as an input any of the songs in the data and returns the most likely song to be listened to next. That is, if, for instance, a user is currently listening to \"Eight Days a Week\", which song has the highest probability of being played right after by the same user? This is going to be Version 1 of a song recommendation model.\n",
    "- How would you set up a test to check whether your model works well and is improving engagement?"
   ]
  },
  {
   "cell_type": "markdown",
   "metadata": {
    "colab_type": "text",
    "id": "gqmMGlgRPPxU"
   },
   "source": [
    "## Data\n",
    "\n",
    "A single JSON file is given in the file ```song.json```.\n",
    "\n",
    "The JSON is:\n",
    "\n",
    "```\n",
    "  \"data\" - all the data is here. Each row represents a song that was listened by a user.\n",
    "```\n",
    "\n",
    "**Fields**:\n",
    "- **id**: Unique identifier of the row\n",
    "- **user_id**: User ID who listened to a given song\n",
    "- **user_state**: What state the user lives in\n",
    "- **user_sign_up_date**: When the user signed up\n",
    "- **song_played**: The song that was listened to\n",
    "- **time_played**: At which time the user started listening to the song (local time)"
   ]
  },
  {
   "cell_type": "markdown",
   "metadata": {
    "colab_type": "text",
    "id": "2As6gwcdP2fD"
   },
   "source": [
    "## Example\n",
    "\n",
    "```\n",
    "  Let's check the first row in the JSON file:\n",
    "```\n",
    "\n",
    "| Field Name | Value | Description |\n",
    "| - | - | - |\n",
    "| id | GOQMMKSQQH | The unique ID of this event |\n",
    "| user_id | 122 | The person who listened to that song | \n",
    "| user_state | Louisiana | State the user is based in | \n",
    "| user_sign_up_date | 2015-05-16 | Account created on May 16, 2015 |\n",
    "| song_played | Hey Jude | User listened to Hey Jude | \n",
    "| time_played | 2015-06-11 21:51:35 | User listened to Hey Jude on June 11, 2016 at 9:51:35PM |"
   ]
  },
  {
   "cell_type": "markdown",
   "metadata": {
    "colab_type": "text",
    "id": "jCo49Q-aDL80"
   },
   "source": [
    "## Mount Google Drive to Colab (Optional)"
   ]
  },
  {
   "cell_type": "code",
   "execution_count": 0,
   "metadata": {
    "colab": {
     "base_uri": "https://localhost:8080/",
     "height": 34
    },
    "colab_type": "code",
    "executionInfo": {
     "elapsed": 308,
     "status": "ok",
     "timestamp": 1555886318926,
     "user": {
      "displayName": "Alex Lim",
      "photoUrl": "https://lh5.googleusercontent.com/-1gZhw-_QR0c/AAAAAAAAAAI/AAAAAAAAAZQ/HMrUSEjOkJc/s64/photo.jpg",
      "userId": "12332462604429038341"
     },
     "user_tz": 420
    },
    "id": "NdX84g7rDOs2",
    "outputId": "c513f2f2-0974-4c1d-888b-5dfb5de4e2da"
   },
   "outputs": [
    {
     "name": "stdout",
     "output_type": "stream",
     "text": [
      "Drive already mounted at /content/drive; to attempt to forcibly remount, call drive.mount(\"/content/drive\", force_remount=True).\n"
     ]
    }
   ],
   "source": [
    "from google.colab import drive\n",
    "drive.mount('/content/drive')"
   ]
  },
  {
   "cell_type": "code",
   "execution_count": 0,
   "metadata": {
    "colab": {
     "base_uri": "https://localhost:8080/",
     "height": 34
    },
    "colab_type": "code",
    "executionInfo": {
     "elapsed": 277,
     "status": "ok",
     "timestamp": 1555888317861,
     "user": {
      "displayName": "Alex Lim",
      "photoUrl": "https://lh5.googleusercontent.com/-1gZhw-_QR0c/AAAAAAAAAAI/AAAAAAAAAZQ/HMrUSEjOkJc/s64/photo.jpg",
      "userId": "12332462604429038341"
     },
     "user_tz": 420
    },
    "id": "eG4oomx2DTvk",
    "outputId": "aa371635-a550-4f1a-b764-17e17786a119"
   },
   "outputs": [
    {
     "name": "stdout",
     "output_type": "stream",
     "text": [
      "/content/drive/My Drive/Colab Notebooks/song-recommender-system\n"
     ]
    }
   ],
   "source": [
    "%cd /content/drive/My Drive/Colab Notebooks/song-recommender-system"
   ]
  },
  {
   "cell_type": "markdown",
   "metadata": {
    "colab_type": "text",
    "id": "AxaVhxRPRDos"
   },
   "source": [
    "## Import Packages"
   ]
  },
  {
   "cell_type": "code",
   "execution_count": 1,
   "metadata": {
    "colab": {},
    "colab_type": "code",
    "id": "N3eJMmSyRiM1"
   },
   "outputs": [],
   "source": [
    "from __future__ import (\n",
    "    absolute_import,\n",
    "    division, \n",
    "    print_function, \n",
    "    unicode_literals\n",
    ")"
   ]
  },
  {
   "cell_type": "code",
   "execution_count": 2,
   "metadata": {
    "colab": {},
    "colab_type": "code",
    "id": "xReGM5H2OCw3"
   },
   "outputs": [],
   "source": [
    "%matplotlib inline\n",
    "\n",
    "import os\n",
    "import math\n",
    "import warnings\n",
    "import json\n",
    "import numpy as np\n",
    "import pandas as pd\n",
    "import seaborn as sns\n",
    "import matplotlib.pyplot as plt\n",
    "from sklearn.preprocessing import normalize\n",
    "from pprint import pprint\n",
    "\n",
    "warnings.simplefilter('ignore')\n",
    "plt.rcParams[\"figure.figsize\"] = (12, 5)  # Set default figure size"
   ]
  },
  {
   "cell_type": "markdown",
   "metadata": {
    "colab_type": "text",
    "id": "HobNhZ4oSVcs"
   },
   "source": [
    "## Load JSON Data"
   ]
  },
  {
   "cell_type": "markdown",
   "metadata": {
    "colab_type": "text",
    "id": "89B9h2emSqX-"
   },
   "source": [
    "JSON (JavaScript Object Notation) is an interpretable, flexible text based format to store data based on a key:value schema. We want to read the ```song.json``` file and get a feel for how our data is structured. "
   ]
  },
  {
   "cell_type": "code",
   "execution_count": 3,
   "metadata": {
    "colab": {},
    "colab_type": "code",
    "id": "lOlXfKvcTRJy"
   },
   "outputs": [],
   "source": [
    "PATH_TO_DATA_FILE = './data/song.json'"
   ]
  },
  {
   "cell_type": "code",
   "execution_count": 4,
   "metadata": {
    "colab": {},
    "colab_type": "code",
    "id": "Ak7nVD6xNSUd"
   },
   "outputs": [],
   "source": [
    "try:\n",
    "  with open(PATH_TO_DATA_FILE, 'r') as f:\n",
    "    data = json.load(f)  # convert JSON string to Python object\n",
    "except FileNotFoundError:\n",
    "  print('Make sure file is in ./data/song.json directory.')"
   ]
  },
  {
   "cell_type": "markdown",
   "metadata": {
    "colab_type": "text",
    "id": "bLq9H_L3VMB9"
   },
   "source": [
    "## Observe JSON Schema"
   ]
  },
  {
   "cell_type": "code",
   "execution_count": 5,
   "metadata": {
    "colab": {
     "base_uri": "https://localhost:8080/",
     "height": 119
    },
    "colab_type": "code",
    "executionInfo": {
     "elapsed": 176,
     "status": "ok",
     "timestamp": 1555888336209,
     "user": {
      "displayName": "Alex Lim",
      "photoUrl": "https://lh5.googleusercontent.com/-1gZhw-_QR0c/AAAAAAAAAAI/AAAAAAAAAZQ/HMrUSEjOkJc/s64/photo.jpg",
      "userId": "12332462604429038341"
     },
     "user_tz": 420
    },
    "id": "jxNqKNSLTWjP",
    "outputId": "3fa0468e-4d29-4abf-f946-8a12f6817c5a"
   },
   "outputs": [
    {
     "name": "stdout",
     "output_type": "stream",
     "text": [
      "{'id': 'GOQMMKSQQH',\n",
      " 'song_played': 'Hey Jude',\n",
      " 'time_played': '2015-06-11 21:51:35',\n",
      " 'user_id': 122,\n",
      " 'user_sign_up_date': '2015-05-16',\n",
      " 'user_state': 'Louisiana'}\n"
     ]
    }
   ],
   "source": [
    "# Look at the first entry\n",
    "pprint(data[0])"
   ]
  },
  {
   "cell_type": "markdown",
   "metadata": {
    "colab_type": "text",
    "id": "N1l2CTFSWFg3"
   },
   "source": [
    "We see that the JSON schema is a single dictionary with key:value pairs with six distinct keys. We do not have any nested keys, which will make wrangling our data into a pandas dataframe simple and quick."
   ]
  },
  {
   "cell_type": "markdown",
   "metadata": {
    "colab_type": "text",
    "id": "iMPb7epeWTS_"
   },
   "source": [
    "## Data Wrangling to DataFrames"
   ]
  },
  {
   "cell_type": "code",
   "execution_count": 6,
   "metadata": {
    "colab": {
     "base_uri": "https://localhost:8080/",
     "height": 34
    },
    "colab_type": "code",
    "executionInfo": {
     "elapsed": 435,
     "status": "ok",
     "timestamp": 1555888336849,
     "user": {
      "displayName": "Alex Lim",
      "photoUrl": "https://lh5.googleusercontent.com/-1gZhw-_QR0c/AAAAAAAAAAI/AAAAAAAAAZQ/HMrUSEjOkJc/s64/photo.jpg",
      "userId": "12332462604429038341"
     },
     "user_tz": 420
    },
    "id": "eMrl9MGRV4V7",
    "outputId": "2e3c1ed8-4d6a-4244-c811-c9b4679093be"
   },
   "outputs": [
    {
     "data": {
      "text/plain": [
       "list"
      ]
     },
     "execution_count": 6,
     "metadata": {},
     "output_type": "execute_result"
    }
   ],
   "source": [
    "type(data)"
   ]
  },
  {
   "cell_type": "code",
   "execution_count": 7,
   "metadata": {
    "colab": {
     "base_uri": "https://localhost:8080/",
     "height": 34
    },
    "colab_type": "code",
    "executionInfo": {
     "elapsed": 450,
     "status": "ok",
     "timestamp": 1555888336995,
     "user": {
      "displayName": "Alex Lim",
      "photoUrl": "https://lh5.googleusercontent.com/-1gZhw-_QR0c/AAAAAAAAAAI/AAAAAAAAAZQ/HMrUSEjOkJc/s64/photo.jpg",
      "userId": "12332462604429038341"
     },
     "user_tz": 420
    },
    "id": "dN-AJVGbZ9DI",
    "outputId": "39416db2-0dc7-4065-fc70-02d695311ac0"
   },
   "outputs": [
    {
     "data": {
      "text/plain": [
       "dict"
      ]
     },
     "execution_count": 7,
     "metadata": {},
     "output_type": "execute_result"
    }
   ],
   "source": [
    "type(data[0])"
   ]
  },
  {
   "cell_type": "markdown",
   "metadata": {
    "colab_type": "text",
    "id": "FXyA6zrfZ-9j"
   },
   "source": [
    "We see that our data is simply a list of dict objects. So we can use the ```from_dict``` dataframe method to load the data. "
   ]
  },
  {
   "cell_type": "code",
   "execution_count": 8,
   "metadata": {
    "colab": {},
    "colab_type": "code",
    "id": "cK-1VorsZ-IX"
   },
   "outputs": [],
   "source": [
    "data_df = pd.DataFrame.from_dict(data)"
   ]
  },
  {
   "cell_type": "markdown",
   "metadata": {
    "colab_type": "text",
    "id": "p03joCvNaKB9"
   },
   "source": [
    "Observe the head of the dataframe and do a sanity check that the data was successfully loaded. "
   ]
  },
  {
   "cell_type": "code",
   "execution_count": 9,
   "metadata": {
    "colab": {
     "base_uri": "https://localhost:8080/",
     "height": 204
    },
    "colab_type": "code",
    "executionInfo": {
     "elapsed": 514,
     "status": "ok",
     "timestamp": 1555888337595,
     "user": {
      "displayName": "Alex Lim",
      "photoUrl": "https://lh5.googleusercontent.com/-1gZhw-_QR0c/AAAAAAAAAAI/AAAAAAAAAZQ/HMrUSEjOkJc/s64/photo.jpg",
      "userId": "12332462604429038341"
     },
     "user_tz": 420
    },
    "id": "Xk6A295MaIHV",
    "outputId": "aa573c77-925a-46a9-9783-ad4ac4407f40"
   },
   "outputs": [
    {
     "data": {
      "text/html": [
       "<div>\n",
       "<style scoped>\n",
       "    .dataframe tbody tr th:only-of-type {\n",
       "        vertical-align: middle;\n",
       "    }\n",
       "\n",
       "    .dataframe tbody tr th {\n",
       "        vertical-align: top;\n",
       "    }\n",
       "\n",
       "    .dataframe thead th {\n",
       "        text-align: right;\n",
       "    }\n",
       "</style>\n",
       "<table border=\"1\" class=\"dataframe\">\n",
       "  <thead>\n",
       "    <tr style=\"text-align: right;\">\n",
       "      <th></th>\n",
       "      <th>id</th>\n",
       "      <th>song_played</th>\n",
       "      <th>time_played</th>\n",
       "      <th>user_id</th>\n",
       "      <th>user_sign_up_date</th>\n",
       "      <th>user_state</th>\n",
       "    </tr>\n",
       "  </thead>\n",
       "  <tbody>\n",
       "    <tr>\n",
       "      <th>0</th>\n",
       "      <td>GOQMMKSQQH</td>\n",
       "      <td>Hey Jude</td>\n",
       "      <td>2015-06-11 21:51:35</td>\n",
       "      <td>122</td>\n",
       "      <td>2015-05-16</td>\n",
       "      <td>Louisiana</td>\n",
       "    </tr>\n",
       "    <tr>\n",
       "      <th>1</th>\n",
       "      <td>HWKKBQKNWI</td>\n",
       "      <td>We Can Work It Out</td>\n",
       "      <td>2015-06-06 16:49:19</td>\n",
       "      <td>3</td>\n",
       "      <td>2015-05-01</td>\n",
       "      <td>Ohio</td>\n",
       "    </tr>\n",
       "    <tr>\n",
       "      <th>2</th>\n",
       "      <td>DKQSXVNJDH</td>\n",
       "      <td>Back In the U.S.S.R.</td>\n",
       "      <td>2015-06-14 02:11:29</td>\n",
       "      <td>35</td>\n",
       "      <td>2015-05-04</td>\n",
       "      <td>New Jersey</td>\n",
       "    </tr>\n",
       "    <tr>\n",
       "      <th>3</th>\n",
       "      <td>HLHRIDQTUW</td>\n",
       "      <td>P.s. I Love You</td>\n",
       "      <td>2015-06-08 12:26:10</td>\n",
       "      <td>126</td>\n",
       "      <td>2015-05-16</td>\n",
       "      <td>Illinois</td>\n",
       "    </tr>\n",
       "    <tr>\n",
       "      <th>4</th>\n",
       "      <td>SUKJCSBCYW</td>\n",
       "      <td>Sgt. Pepper's Lonely Hearts Club Band</td>\n",
       "      <td>2015-06-28 14:57:00</td>\n",
       "      <td>6</td>\n",
       "      <td>2015-05-01</td>\n",
       "      <td>New Jersey</td>\n",
       "    </tr>\n",
       "  </tbody>\n",
       "</table>\n",
       "</div>"
      ],
      "text/plain": [
       "           id                            song_played          time_played  \\\n",
       "0  GOQMMKSQQH                               Hey Jude  2015-06-11 21:51:35   \n",
       "1  HWKKBQKNWI                     We Can Work It Out  2015-06-06 16:49:19   \n",
       "2  DKQSXVNJDH                   Back In the U.S.S.R.  2015-06-14 02:11:29   \n",
       "3  HLHRIDQTUW                        P.s. I Love You  2015-06-08 12:26:10   \n",
       "4  SUKJCSBCYW  Sgt. Pepper's Lonely Hearts Club Band  2015-06-28 14:57:00   \n",
       "\n",
       "   user_id user_sign_up_date  user_state  \n",
       "0      122        2015-05-16   Louisiana  \n",
       "1        3        2015-05-01        Ohio  \n",
       "2       35        2015-05-04  New Jersey  \n",
       "3      126        2015-05-16    Illinois  \n",
       "4        6        2015-05-01  New Jersey  "
      ]
     },
     "execution_count": 9,
     "metadata": {},
     "output_type": "execute_result"
    }
   ],
   "source": [
    "data_df.head()"
   ]
  },
  {
   "cell_type": "markdown",
   "metadata": {
    "colab_type": "text",
    "id": "_HsZFo-Rc6lD"
   },
   "source": [
    "Let's observe the data types of each column. "
   ]
  },
  {
   "cell_type": "code",
   "execution_count": 10,
   "metadata": {
    "colab": {
     "base_uri": "https://localhost:8080/",
     "height": 136
    },
    "colab_type": "code",
    "executionInfo": {
     "elapsed": 452,
     "status": "ok",
     "timestamp": 1555888337783,
     "user": {
      "displayName": "Alex Lim",
      "photoUrl": "https://lh5.googleusercontent.com/-1gZhw-_QR0c/AAAAAAAAAAI/AAAAAAAAAZQ/HMrUSEjOkJc/s64/photo.jpg",
      "userId": "12332462604429038341"
     },
     "user_tz": 420
    },
    "id": "Ydwx8OWoc0Fb",
    "outputId": "ad84089e-0ca4-4337-e79e-a8c0aae88e9a"
   },
   "outputs": [
    {
     "data": {
      "text/plain": [
       "id                   object\n",
       "song_played          object\n",
       "time_played          object\n",
       "user_id               int64\n",
       "user_sign_up_date    object\n",
       "user_state           object\n",
       "dtype: object"
      ]
     },
     "execution_count": 10,
     "metadata": {},
     "output_type": "execute_result"
    }
   ],
   "source": [
    "data_df.dtypes"
   ]
  },
  {
   "cell_type": "markdown",
   "metadata": {
    "colab_type": "text",
    "id": "t9WqPzgsbe6w"
   },
   "source": [
    "## Feature Engineering"
   ]
  },
  {
   "cell_type": "markdown",
   "metadata": {
    "colab_type": "text",
    "id": "YH14WA0icUdD"
   },
   "source": [
    "We see that the ```time_played``` is of type ```object```. That column can be broken up to better extract certain features of the time (e.g., month, hour, day of the week). Therefore, it would be convenient to convert this column into a datetime format and create new columns from there.\n",
    "\n",
    "This is especially important when we want to figure out, for example, what hour of the day are most users listening to songs. \n",
    "\n",
    "datetime reference: https://docs.python.org/2/library/datetime.html"
   ]
  },
  {
   "cell_type": "code",
   "execution_count": 11,
   "metadata": {
    "colab": {},
    "colab_type": "code",
    "id": "s53r56XfbhD8"
   },
   "outputs": [],
   "source": [
    "# Convert column to datetime object\n",
    "data_df['time_played'] = pd.to_datetime(data_df['time_played'])\n",
    "\n",
    "# Rename the column to datetime_played\n",
    "data_df = data_df.rename(columns={'time_played': 'datetime_played'})"
   ]
  },
  {
   "cell_type": "code",
   "execution_count": 12,
   "metadata": {
    "colab": {},
    "colab_type": "code",
    "id": "9Me1lrARdz2h"
   },
   "outputs": [],
   "source": [
    "# Extract datetime features\n",
    "hour = data_df['datetime_played'].dt.hour\n",
    "weekday = data_df['datetime_played'].dt.weekday  # Monday is 0"
   ]
  },
  {
   "cell_type": "code",
   "execution_count": 13,
   "metadata": {
    "colab": {},
    "colab_type": "code",
    "id": "pTsmaGffd0e9"
   },
   "outputs": [],
   "source": [
    "data_df.insert(loc=3, column='hour_played', value=hour)\n",
    "data_df.insert(loc=3, column='weekday_played', value=weekday)"
   ]
  },
  {
   "cell_type": "code",
   "execution_count": 14,
   "metadata": {
    "colab": {
     "base_uri": "https://localhost:8080/",
     "height": 204
    },
    "colab_type": "code",
    "executionInfo": {
     "elapsed": 381,
     "status": "ok",
     "timestamp": 1555888338519,
     "user": {
      "displayName": "Alex Lim",
      "photoUrl": "https://lh5.googleusercontent.com/-1gZhw-_QR0c/AAAAAAAAAAI/AAAAAAAAAZQ/HMrUSEjOkJc/s64/photo.jpg",
      "userId": "12332462604429038341"
     },
     "user_tz": 420
    },
    "id": "rx--MBAId9Yq",
    "outputId": "416f4168-dc58-4d5b-8297-1fe5347e5beb"
   },
   "outputs": [
    {
     "data": {
      "text/html": [
       "<div>\n",
       "<style scoped>\n",
       "    .dataframe tbody tr th:only-of-type {\n",
       "        vertical-align: middle;\n",
       "    }\n",
       "\n",
       "    .dataframe tbody tr th {\n",
       "        vertical-align: top;\n",
       "    }\n",
       "\n",
       "    .dataframe thead th {\n",
       "        text-align: right;\n",
       "    }\n",
       "</style>\n",
       "<table border=\"1\" class=\"dataframe\">\n",
       "  <thead>\n",
       "    <tr style=\"text-align: right;\">\n",
       "      <th></th>\n",
       "      <th>id</th>\n",
       "      <th>song_played</th>\n",
       "      <th>datetime_played</th>\n",
       "      <th>weekday_played</th>\n",
       "      <th>hour_played</th>\n",
       "      <th>user_id</th>\n",
       "      <th>user_sign_up_date</th>\n",
       "      <th>user_state</th>\n",
       "    </tr>\n",
       "  </thead>\n",
       "  <tbody>\n",
       "    <tr>\n",
       "      <th>0</th>\n",
       "      <td>GOQMMKSQQH</td>\n",
       "      <td>Hey Jude</td>\n",
       "      <td>2015-06-11 21:51:35</td>\n",
       "      <td>3</td>\n",
       "      <td>21</td>\n",
       "      <td>122</td>\n",
       "      <td>2015-05-16</td>\n",
       "      <td>Louisiana</td>\n",
       "    </tr>\n",
       "    <tr>\n",
       "      <th>1</th>\n",
       "      <td>HWKKBQKNWI</td>\n",
       "      <td>We Can Work It Out</td>\n",
       "      <td>2015-06-06 16:49:19</td>\n",
       "      <td>5</td>\n",
       "      <td>16</td>\n",
       "      <td>3</td>\n",
       "      <td>2015-05-01</td>\n",
       "      <td>Ohio</td>\n",
       "    </tr>\n",
       "    <tr>\n",
       "      <th>2</th>\n",
       "      <td>DKQSXVNJDH</td>\n",
       "      <td>Back In the U.S.S.R.</td>\n",
       "      <td>2015-06-14 02:11:29</td>\n",
       "      <td>6</td>\n",
       "      <td>2</td>\n",
       "      <td>35</td>\n",
       "      <td>2015-05-04</td>\n",
       "      <td>New Jersey</td>\n",
       "    </tr>\n",
       "    <tr>\n",
       "      <th>3</th>\n",
       "      <td>HLHRIDQTUW</td>\n",
       "      <td>P.s. I Love You</td>\n",
       "      <td>2015-06-08 12:26:10</td>\n",
       "      <td>0</td>\n",
       "      <td>12</td>\n",
       "      <td>126</td>\n",
       "      <td>2015-05-16</td>\n",
       "      <td>Illinois</td>\n",
       "    </tr>\n",
       "    <tr>\n",
       "      <th>4</th>\n",
       "      <td>SUKJCSBCYW</td>\n",
       "      <td>Sgt. Pepper's Lonely Hearts Club Band</td>\n",
       "      <td>2015-06-28 14:57:00</td>\n",
       "      <td>6</td>\n",
       "      <td>14</td>\n",
       "      <td>6</td>\n",
       "      <td>2015-05-01</td>\n",
       "      <td>New Jersey</td>\n",
       "    </tr>\n",
       "  </tbody>\n",
       "</table>\n",
       "</div>"
      ],
      "text/plain": [
       "           id                            song_played     datetime_played  \\\n",
       "0  GOQMMKSQQH                               Hey Jude 2015-06-11 21:51:35   \n",
       "1  HWKKBQKNWI                     We Can Work It Out 2015-06-06 16:49:19   \n",
       "2  DKQSXVNJDH                   Back In the U.S.S.R. 2015-06-14 02:11:29   \n",
       "3  HLHRIDQTUW                        P.s. I Love You 2015-06-08 12:26:10   \n",
       "4  SUKJCSBCYW  Sgt. Pepper's Lonely Hearts Club Band 2015-06-28 14:57:00   \n",
       "\n",
       "   weekday_played  hour_played  user_id user_sign_up_date  user_state  \n",
       "0               3           21      122        2015-05-16   Louisiana  \n",
       "1               5           16        3        2015-05-01        Ohio  \n",
       "2               6            2       35        2015-05-04  New Jersey  \n",
       "3               0           12      126        2015-05-16    Illinois  \n",
       "4               6           14        6        2015-05-01  New Jersey  "
      ]
     },
     "execution_count": 14,
     "metadata": {},
     "output_type": "execute_result"
    }
   ],
   "source": [
    "data_df.head()"
   ]
  },
  {
   "cell_type": "code",
   "execution_count": 15,
   "metadata": {
    "colab": {
     "base_uri": "https://localhost:8080/",
     "height": 238
    },
    "colab_type": "code",
    "executionInfo": {
     "elapsed": 432,
     "status": "ok",
     "timestamp": 1555888338716,
     "user": {
      "displayName": "Alex Lim",
      "photoUrl": "https://lh5.googleusercontent.com/-1gZhw-_QR0c/AAAAAAAAAAI/AAAAAAAAAZQ/HMrUSEjOkJc/s64/photo.jpg",
      "userId": "12332462604429038341"
     },
     "user_tz": 420
    },
    "id": "l7q9PUm7rFWz",
    "outputId": "bfe47be8-c325-473d-ab96-ee25c62cf341"
   },
   "outputs": [
    {
     "name": "stdout",
     "output_type": "stream",
     "text": [
      "<class 'pandas.core.frame.DataFrame'>\n",
      "RangeIndex: 4000 entries, 0 to 3999\n",
      "Data columns (total 8 columns):\n",
      "id                   4000 non-null object\n",
      "song_played          4000 non-null object\n",
      "datetime_played      4000 non-null datetime64[ns]\n",
      "weekday_played       4000 non-null int64\n",
      "hour_played          4000 non-null int64\n",
      "user_id              4000 non-null int64\n",
      "user_sign_up_date    4000 non-null object\n",
      "user_state           4000 non-null object\n",
      "dtypes: datetime64[ns](1), int64(3), object(4)\n",
      "memory usage: 250.1+ KB\n"
     ]
    }
   ],
   "source": [
    "data_df.info()"
   ]
  },
  {
   "cell_type": "markdown",
   "metadata": {
    "colab_type": "text",
    "id": "yL8XazuEiV_U"
   },
   "source": [
    "## Exploratory Data Analysis"
   ]
  },
  {
   "cell_type": "markdown",
   "metadata": {
    "colab_type": "text",
    "id": "MQ00oFKJiYXv"
   },
   "source": [
    "Now that we have the data in our desired format, we can apply exploratory data analysis (EDA) to gain some insights on user behaviors for song listening activity. "
   ]
  },
  {
   "cell_type": "markdown",
   "metadata": {
    "colab_type": "text",
    "id": "vSIFO2ySif2A"
   },
   "source": [
    "#### Listening Activity for Hour of the Day"
   ]
  },
  {
   "cell_type": "code",
   "execution_count": 16,
   "metadata": {
    "colab": {
     "base_uri": "https://localhost:8080/",
     "height": 442
    },
    "colab_type": "code",
    "executionInfo": {
     "elapsed": 253,
     "status": "ok",
     "timestamp": 1555888339088,
     "user": {
      "displayName": "Alex Lim",
      "photoUrl": "https://lh5.googleusercontent.com/-1gZhw-_QR0c/AAAAAAAAAAI/AAAAAAAAAZQ/HMrUSEjOkJc/s64/photo.jpg",
      "userId": "12332462604429038341"
     },
     "user_tz": 420
    },
    "id": "mP5sCzm0l6VA",
    "outputId": "19a9339e-fead-4552-c105-ef80cf94266c"
   },
   "outputs": [
    {
     "data": {
      "text/plain": [
       "14    344\n",
       "15    306\n",
       "18    292\n",
       "12    288\n",
       "17    287\n",
       "13    287\n",
       "16    257\n",
       "11    252\n",
       "19    221\n",
       "10    207\n",
       "20    202\n",
       "9     180\n",
       "21    163\n",
       "22    142\n",
       "8     133\n",
       "23    112\n",
       "7      92\n",
       "6      74\n",
       "5      57\n",
       "4      36\n",
       "3      21\n",
       "1      19\n",
       "2      19\n",
       "0       9\n",
       "Name: hour_played, dtype: int64"
      ]
     },
     "execution_count": 16,
     "metadata": {},
     "output_type": "execute_result"
    }
   ],
   "source": [
    "# Observe the number of song plays in a given hour of the day\n",
    "data_df['hour_played'].value_counts()"
   ]
  },
  {
   "cell_type": "markdown",
   "metadata": {
    "colab_type": "text",
    "id": "Y3878yZ2mA1x"
   },
   "source": [
    "We can see from the above that our top 3 most active hours of song plays are at 2PM, 3PM, and 6PM. \n",
    "\n",
    "A count plot of this distribution is shown below."
   ]
  },
  {
   "cell_type": "code",
   "execution_count": 17,
   "metadata": {
    "colab": {
     "base_uri": "https://localhost:8080/",
     "height": 350
    },
    "colab_type": "code",
    "executionInfo": {
     "elapsed": 526,
     "status": "ok",
     "timestamp": 1555888340423,
     "user": {
      "displayName": "Alex Lim",
      "photoUrl": "https://lh5.googleusercontent.com/-1gZhw-_QR0c/AAAAAAAAAAI/AAAAAAAAAZQ/HMrUSEjOkJc/s64/photo.jpg",
      "userId": "12332462604429038341"
     },
     "user_tz": 420
    },
    "id": "fKJyLqG4ka43",
    "outputId": "0ffc20e8-4d34-4168-c5c0-99b07a0cf28a"
   },
   "outputs": [
    {
     "data": {
      "image/png": "[encoded data removed]",
      "text/plain": [
       "<Figure size 432x288 with 1 Axes>"
      ]
     },
     "metadata": {
      "needs_background": "light"
     },
     "output_type": "display_data"
    }
   ],
   "source": [
    "# Observe a histogram of the data\n",
    "# sns.distplot(data_df['hour_played'], kde=False, rug=True, bins=24);\n",
    "sns.countplot(data_df['hour_played'])\n",
    "plt.title('Count Plot of Song Plays for Hour of Day');\n",
    "plt.xlabel('Hour of Day');\n",
    "plt.ylabel('Count of Song Plays');"
   ]
  },
  {
   "cell_type": "markdown",
   "metadata": {
    "colab_type": "text",
    "id": "K0z-RUnHmW67"
   },
   "source": [
    "#### Listening Activity for Day of the Week"
   ]
  },
  {
   "cell_type": "code",
   "execution_count": 18,
   "metadata": {
    "colab": {
     "base_uri": "https://localhost:8080/",
     "height": 153
    },
    "colab_type": "code",
    "executionInfo": {
     "elapsed": 530,
     "status": "ok",
     "timestamp": 1555888340745,
     "user": {
      "displayName": "Alex Lim",
      "photoUrl": "https://lh5.googleusercontent.com/-1gZhw-_QR0c/AAAAAAAAAAI/AAAAAAAAAZQ/HMrUSEjOkJc/s64/photo.jpg",
      "userId": "12332462604429038341"
     },
     "user_tz": 420
    },
    "id": "oATaNPxGmb4-",
    "outputId": "c63cb423-b72d-4701-9598-43e8fbcc133c"
   },
   "outputs": [
    {
     "data": {
      "text/plain": [
       "0    888\n",
       "4    648\n",
       "6    632\n",
       "3    610\n",
       "5    586\n",
       "1    319\n",
       "2    317\n",
       "Name: weekday_played, dtype: int64"
      ]
     },
     "execution_count": 18,
     "metadata": {},
     "output_type": "execute_result"
    }
   ],
   "source": [
    "\n",
    "data_df['weekday_played'].value_counts()"
   ]
  },
  {
   "cell_type": "markdown",
   "metadata": {
    "colab_type": "text",
    "id": "CecaL5LBmlMv"
   },
   "source": [
    "We see that that 0 (Monday) is the day that has the most song play activity. \n",
    "\n",
    "A count plot of this distribution is shown below."
   ]
  },
  {
   "cell_type": "code",
   "execution_count": 19,
   "metadata": {
    "colab": {
     "base_uri": "https://localhost:8080/",
     "height": 367
    },
    "colab_type": "code",
    "executionInfo": {
     "elapsed": 615,
     "status": "ok",
     "timestamp": 1555888341163,
     "user": {
      "displayName": "Alex Lim",
      "photoUrl": "https://lh5.googleusercontent.com/-1gZhw-_QR0c/AAAAAAAAAAI/AAAAAAAAAZQ/HMrUSEjOkJc/s64/photo.jpg",
      "userId": "12332462604429038341"
     },
     "user_tz": 420
    },
    "id": "P9B9yTJEmu63",
    "outputId": "f86025dd-4ca4-4b66-f7ea-dd456028f955"
   },
   "outputs": [
    {
     "data": {
      "text/plain": [
       "Text(0, 0.5, 'Count of Song Plays')"
      ]
     },
     "execution_count": 19,
     "metadata": {},
     "output_type": "execute_result"
    },
    {
     "data": {
      "image/png": "[encoded data removed]",
      "text/plain": [
       "<Figure size 432x288 with 1 Axes>"
      ]
     },
     "metadata": {
      "needs_background": "light"
     },
     "output_type": "display_data"
    }
   ],
   "source": [
    "'''\n",
    "# Dictionary to convert hour index to equivalent hour string\n",
    "day_dict = {0: 'Monday', 1: 'Tuesday', 2: 'Wednesday', 3: 'Thursday',\n",
    "            4: 'Friday', 5: 'Saturday', 6: 'Sunday'}\n",
    "  \n",
    "renamed_weekday = data_df['weekday_played'].map(lambda x: day_dict[x])\n",
    "'''\n",
    "\n",
    "## TODO: Label axis according to hour strings\n",
    "weekday_string = ['Monday', 'Tuesday', 'Wednesday', 'Thursday', 'Friday', 'Saturday', 'Sunday']\n",
    "\n",
    "sns.countplot(x=data_df['weekday_played']);\n",
    "plt.title('Count Plot of Song Plays for Day of Week')\n",
    "plt.xlabel('Day of Week')\n",
    "plt.ylabel('Count of Song Plays')"
   ]
  },
  {
   "cell_type": "markdown",
   "metadata": {
    "colab_type": "text",
    "id": "B1vsa0f-aawW"
   },
   "source": [
    "## Question: What are the top 3 and the bottom 3 states in terms of number of users?"
   ]
  },
  {
   "cell_type": "markdown",
   "metadata": {
    "colab_type": "text",
    "id": "Ttf11H6mah9w"
   },
   "source": [
    "In order to figure this out, we have to leverage the ```.groupby``` dataframe method. "
   ]
  },
  {
   "cell_type": "code",
   "execution_count": 20,
   "metadata": {
    "colab": {},
    "colab_type": "code",
    "id": "rNQMLCfKaI-e"
   },
   "outputs": [],
   "source": [
    "state_user_count = data_df.groupby(by='user_state')['user_id'].nunique().reset_index()"
   ]
  },
  {
   "cell_type": "code",
   "execution_count": 21,
   "metadata": {
    "colab": {
     "base_uri": "https://localhost:8080/",
     "height": 204
    },
    "colab_type": "code",
    "executionInfo": {
     "elapsed": 430,
     "status": "ok",
     "timestamp": 1555888341749,
     "user": {
      "displayName": "Alex Lim",
      "photoUrl": "https://lh5.googleusercontent.com/-1gZhw-_QR0c/AAAAAAAAAAI/AAAAAAAAAZQ/HMrUSEjOkJc/s64/photo.jpg",
      "userId": "12332462604429038341"
     },
     "user_tz": 420
    },
    "id": "deGj5m4-sJgw",
    "outputId": "8112337f-eb2a-4f59-b24b-648294807f63"
   },
   "outputs": [
    {
     "data": {
      "text/html": [
       "<div>\n",
       "<style scoped>\n",
       "    .dataframe tbody tr th:only-of-type {\n",
       "        vertical-align: middle;\n",
       "    }\n",
       "\n",
       "    .dataframe tbody tr th {\n",
       "        vertical-align: top;\n",
       "    }\n",
       "\n",
       "    .dataframe thead th {\n",
       "        text-align: right;\n",
       "    }\n",
       "</style>\n",
       "<table border=\"1\" class=\"dataframe\">\n",
       "  <thead>\n",
       "    <tr style=\"text-align: right;\">\n",
       "      <th></th>\n",
       "      <th>user_state</th>\n",
       "      <th>user_id</th>\n",
       "    </tr>\n",
       "  </thead>\n",
       "  <tbody>\n",
       "    <tr>\n",
       "      <th>0</th>\n",
       "      <td>Alabama</td>\n",
       "      <td>4</td>\n",
       "    </tr>\n",
       "    <tr>\n",
       "      <th>1</th>\n",
       "      <td>Alaska</td>\n",
       "      <td>2</td>\n",
       "    </tr>\n",
       "    <tr>\n",
       "      <th>2</th>\n",
       "      <td>Arizona</td>\n",
       "      <td>1</td>\n",
       "    </tr>\n",
       "    <tr>\n",
       "      <th>3</th>\n",
       "      <td>Arkansas</td>\n",
       "      <td>2</td>\n",
       "    </tr>\n",
       "    <tr>\n",
       "      <th>4</th>\n",
       "      <td>California</td>\n",
       "      <td>21</td>\n",
       "    </tr>\n",
       "  </tbody>\n",
       "</table>\n",
       "</div>"
      ],
      "text/plain": [
       "   user_state  user_id\n",
       "0     Alabama        4\n",
       "1      Alaska        2\n",
       "2     Arizona        1\n",
       "3    Arkansas        2\n",
       "4  California       21"
      ]
     },
     "execution_count": 21,
     "metadata": {},
     "output_type": "execute_result"
    }
   ],
   "source": [
    "state_user_count.head()"
   ]
  },
  {
   "cell_type": "code",
   "execution_count": 22,
   "metadata": {
    "colab": {},
    "colab_type": "code",
    "id": "oWfm967CsPYi"
   },
   "outputs": [],
   "source": [
    "# Rename user_id column to user_count\n",
    "state_user_count = state_user_count.rename(columns={'user_id': 'user_count'})"
   ]
  },
  {
   "cell_type": "code",
   "execution_count": 23,
   "metadata": {
    "colab": {},
    "colab_type": "code",
    "id": "kqHoPgEKsWUA"
   },
   "outputs": [],
   "source": [
    "# Sort by user counts\n",
    "state_user_count = state_user_count.sort_values(by='user_count', ascending=False).reset_index()"
   ]
  },
  {
   "cell_type": "code",
   "execution_count": 24,
   "metadata": {
    "colab": {
     "base_uri": "https://localhost:8080/",
     "height": 414
    },
    "colab_type": "code",
    "executionInfo": {
     "elapsed": 1149,
     "status": "ok",
     "timestamp": 1555888343217,
     "user": {
      "displayName": "Alex Lim",
      "photoUrl": "https://lh5.googleusercontent.com/-1gZhw-_QR0c/AAAAAAAAAAI/AAAAAAAAAZQ/HMrUSEjOkJc/s64/photo.jpg",
      "userId": "12332462604429038341"
     },
     "user_tz": 420
    },
    "id": "BlLQj9UIshmr",
    "outputId": "4b8ed48a-4ae4-4617-8d91-4b15ea837ee7"
   },
   "outputs": [
    {
     "data": {
      "image/png": "[encoded data removed]",
      "text/plain": [
       "<Figure size 432x288 with 1 Axes>"
      ]
     },
     "metadata": {
      "needs_background": "light"
     },
     "output_type": "display_data"
    }
   ],
   "source": [
    "# Plot the distribution\n",
    "plot = sns.barplot(x=state_user_count['user_state'], y=state_user_count['user_count'])\n",
    "plot.set_xticklabels(labels=state_user_count['user_state'], rotation=90);\n",
    "plt.title('Number of Users by State');\n",
    "plt.xlabel('State');\n",
    "plt.ylabel('User Count');"
   ]
  },
  {
   "cell_type": "markdown",
   "metadata": {
    "colab_type": "text",
    "id": "Npfs-59xsMrh"
   },
   "source": [
    "From the above bar plot we observe:\n",
    "\n",
    "Top 3 states in terms of number of users: **New York, California, and Texas**\n",
    "\n",
    "Bottom 3 states in terms of number of users: **Nebraska, Arizona, Kansas**"
   ]
  },
  {
   "cell_type": "markdown",
   "metadata": {
    "colab_type": "text",
    "id": "0fOh5XNSsCOA"
   },
   "source": [
    "#### Top 3 States (Number of Users)"
   ]
  },
  {
   "cell_type": "code",
   "execution_count": 25,
   "metadata": {
    "colab": {
     "base_uri": "https://localhost:8080/",
     "height": 142
    },
    "colab_type": "code",
    "executionInfo": {
     "elapsed": 473,
     "status": "ok",
     "timestamp": 1555888343218,
     "user": {
      "displayName": "Alex Lim",
      "photoUrl": "https://lh5.googleusercontent.com/-1gZhw-_QR0c/AAAAAAAAAAI/AAAAAAAAAZQ/HMrUSEjOkJc/s64/photo.jpg",
      "userId": "12332462604429038341"
     },
     "user_tz": 420
    },
    "id": "2S5muw6frvCv",
    "outputId": "42895058-87c5-46c0-8aad-f5afb2ed8837"
   },
   "outputs": [
    {
     "data": {
      "text/html": [
       "<div>\n",
       "<style scoped>\n",
       "    .dataframe tbody tr th:only-of-type {\n",
       "        vertical-align: middle;\n",
       "    }\n",
       "\n",
       "    .dataframe tbody tr th {\n",
       "        vertical-align: top;\n",
       "    }\n",
       "\n",
       "    .dataframe thead th {\n",
       "        text-align: right;\n",
       "    }\n",
       "</style>\n",
       "<table border=\"1\" class=\"dataframe\">\n",
       "  <thead>\n",
       "    <tr style=\"text-align: right;\">\n",
       "      <th></th>\n",
       "      <th>index</th>\n",
       "      <th>user_state</th>\n",
       "      <th>user_count</th>\n",
       "    </tr>\n",
       "  </thead>\n",
       "  <tbody>\n",
       "    <tr>\n",
       "      <th>0</th>\n",
       "      <td>25</td>\n",
       "      <td>New York</td>\n",
       "      <td>23</td>\n",
       "    </tr>\n",
       "    <tr>\n",
       "      <th>1</th>\n",
       "      <td>4</td>\n",
       "      <td>California</td>\n",
       "      <td>21</td>\n",
       "    </tr>\n",
       "    <tr>\n",
       "      <th>2</th>\n",
       "      <td>35</td>\n",
       "      <td>Texas</td>\n",
       "      <td>15</td>\n",
       "    </tr>\n",
       "  </tbody>\n",
       "</table>\n",
       "</div>"
      ],
      "text/plain": [
       "   index  user_state  user_count\n",
       "0     25    New York          23\n",
       "1      4  California          21\n",
       "2     35       Texas          15"
      ]
     },
     "execution_count": 25,
     "metadata": {},
     "output_type": "execute_result"
    }
   ],
   "source": [
    "state_user_count.head(3)"
   ]
  },
  {
   "cell_type": "markdown",
   "metadata": {
    "colab_type": "text",
    "id": "q27aJfG7uQnE"
   },
   "source": [
    "#### Bottom 3 States (Number of Users)"
   ]
  },
  {
   "cell_type": "code",
   "execution_count": 26,
   "metadata": {
    "colab": {
     "base_uri": "https://localhost:8080/",
     "height": 142
    },
    "colab_type": "code",
    "executionInfo": {
     "elapsed": 352,
     "status": "ok",
     "timestamp": 1555888343403,
     "user": {
      "displayName": "Alex Lim",
      "photoUrl": "https://lh5.googleusercontent.com/-1gZhw-_QR0c/AAAAAAAAAAI/AAAAAAAAAZQ/HMrUSEjOkJc/s64/photo.jpg",
      "userId": "12332462604429038341"
     },
     "user_tz": 420
    },
    "id": "SrAoYv_arz_A",
    "outputId": "ad7d4fa0-3ec7-4012-cb02-3dbc1b00c5a0"
   },
   "outputs": [
    {
     "data": {
      "text/html": [
       "<div>\n",
       "<style scoped>\n",
       "    .dataframe tbody tr th:only-of-type {\n",
       "        vertical-align: middle;\n",
       "    }\n",
       "\n",
       "    .dataframe tbody tr th {\n",
       "        vertical-align: top;\n",
       "    }\n",
       "\n",
       "    .dataframe thead th {\n",
       "        text-align: right;\n",
       "    }\n",
       "</style>\n",
       "<table border=\"1\" class=\"dataframe\">\n",
       "  <thead>\n",
       "    <tr style=\"text-align: right;\">\n",
       "      <th></th>\n",
       "      <th>index</th>\n",
       "      <th>user_state</th>\n",
       "      <th>user_count</th>\n",
       "    </tr>\n",
       "  </thead>\n",
       "  <tbody>\n",
       "    <tr>\n",
       "      <th>38</th>\n",
       "      <td>22</td>\n",
       "      <td>Nebraska</td>\n",
       "      <td>1</td>\n",
       "    </tr>\n",
       "    <tr>\n",
       "      <th>39</th>\n",
       "      <td>2</td>\n",
       "      <td>Arizona</td>\n",
       "      <td>1</td>\n",
       "    </tr>\n",
       "    <tr>\n",
       "      <th>40</th>\n",
       "      <td>13</td>\n",
       "      <td>Kansas</td>\n",
       "      <td>1</td>\n",
       "    </tr>\n",
       "  </tbody>\n",
       "</table>\n",
       "</div>"
      ],
      "text/plain": [
       "    index user_state  user_count\n",
       "38     22   Nebraska           1\n",
       "39      2    Arizona           1\n",
       "40     13     Kansas           1"
      ]
     },
     "execution_count": 26,
     "metadata": {},
     "output_type": "execute_result"
    }
   ],
   "source": [
    "state_user_count.tail(3)"
   ]
  },
  {
   "cell_type": "markdown",
   "metadata": {
    "colab_type": "text",
    "id": "lkhElRd-unre"
   },
   "source": [
    "## Question: What are the top 3 and bottom 3 states in terms of user engagement? "
   ]
  },
  {
   "cell_type": "markdown",
   "metadata": {
    "colab_type": "text",
    "id": "1ehDJaFOutAD"
   },
   "source": [
    "We can define user engagement in whatever feasible way. The CEO cares about which states users are using the product a lot/very little. In this case, we should focus on each state and analyze determine a feature that defines user engagement. In this case, I will cohose to analyze the following:\n",
    "\n",
    "1. Total number of songs played by each state\n",
    "2. Average number of songs played per user by each state"
   ]
  },
  {
   "cell_type": "markdown",
   "metadata": {
    "colab_type": "text",
    "id": "DatYZoSsvrLx"
   },
   "source": [
    "#### Total Number of Songs Played by Each State"
   ]
  },
  {
   "cell_type": "code",
   "execution_count": 27,
   "metadata": {
    "colab": {
     "base_uri": "https://localhost:8080/",
     "height": 748
    },
    "colab_type": "code",
    "executionInfo": {
     "elapsed": 335,
     "status": "ok",
     "timestamp": 1555888343995,
     "user": {
      "displayName": "Alex Lim",
      "photoUrl": "https://lh5.googleusercontent.com/-1gZhw-_QR0c/AAAAAAAAAAI/AAAAAAAAAZQ/HMrUSEjOkJc/s64/photo.jpg",
      "userId": "12332462604429038341"
     },
     "user_tz": 420
    },
    "id": "g5KT5Uy1uVHu",
    "outputId": "14329c1c-ca15-4dd3-9542-1bfc93ae1363"
   },
   "outputs": [
    {
     "data": {
      "text/plain": [
       "user_state\n",
       "New York          469\n",
       "California        425\n",
       "Texas             230\n",
       "Ohio              209\n",
       "Florida           180\n",
       "Pennsylvania      179\n",
       "North Carolina    154\n",
       "Illinois          149\n",
       "Georgia           135\n",
       "Missouri          127\n",
       "New Jersey        117\n",
       "Maryland          112\n",
       "Louisiana         105\n",
       "Alabama           104\n",
       "Tennessee         102\n",
       "Wisconsin          95\n",
       "Massachusetts      91\n",
       "Mississippi        85\n",
       "South Carolina     85\n",
       "Michigan           80\n",
       "Kentucky           78\n",
       "Oregon             62\n",
       "Alaska             58\n",
       "Indiana            55\n",
       "Colorado           54\n",
       "Oklahoma           49\n",
       "Minnesota          42\n",
       "Washington         41\n",
       "West Virginia      38\n",
       "Utah               38\n",
       "Nebraska           36\n",
       "Arkansas           34\n",
       "Rhode Island       27\n",
       "North Dakota       26\n",
       "Idaho              26\n",
       "Iowa               23\n",
       "Arizona            22\n",
       "Virginia           17\n",
       "New Mexico         17\n",
       "Connecticut        16\n",
       "Kansas              8\n",
       "dtype: int64"
      ]
     },
     "execution_count": 27,
     "metadata": {},
     "output_type": "execute_result"
    }
   ],
   "source": [
    "total_plays_per_state = data_df.groupby('user_state').size().sort_values(ascending=False)\n",
    "total_plays_per_state"
   ]
  },
  {
   "cell_type": "code",
   "execution_count": 28,
   "metadata": {
    "colab": {
     "base_uri": "https://localhost:8080/",
     "height": 414
    },
    "colab_type": "code",
    "executionInfo": {
     "elapsed": 1172,
     "status": "ok",
     "timestamp": 1555888345009,
     "user": {
      "displayName": "Alex Lim",
      "photoUrl": "https://lh5.googleusercontent.com/-1gZhw-_QR0c/AAAAAAAAAAI/AAAAAAAAAZQ/HMrUSEjOkJc/s64/photo.jpg",
      "userId": "12332462604429038341"
     },
     "user_tz": 420
    },
    "id": "H-ytjJ0lvvsM",
    "outputId": "9d44ee71-5ff5-4e03-b8ff-e14a9460cd56"
   },
   "outputs": [
    {
     "data": {
      "image/png": "[encoded data removed]",
      "text/plain": [
       "<Figure size 432x288 with 1 Axes>"
      ]
     },
     "metadata": {
      "needs_background": "light"
     },
     "output_type": "display_data"
    }
   ],
   "source": [
    "plot = sns.barplot(x=total_plays_per_state.index, y=total_plays_per_state.values);\n",
    "plot.set_xticklabels(labels=total_plays_per_state.index, rotation=90);\n",
    "plt.title('Total Song Plays per State');\n",
    "plt.xlabel('State');\n",
    "plt.ylabel('Total Song Plays');"
   ]
  },
  {
   "cell_type": "markdown",
   "metadata": {
    "colab_type": "text",
    "id": "SKWxziqMwpcm"
   },
   "source": [
    "We observe that New York and California make up for a large amount of the total song plays. However, this may not be as informative because we know that they consist of the most users. "
   ]
  },
  {
   "cell_type": "markdown",
   "metadata": {
    "colab_type": "text",
    "id": "4yWQVMNcw2zp"
   },
   "source": [
    "#### Average Number of Songs Played per User by Each State"
   ]
  },
  {
   "cell_type": "markdown",
   "metadata": {
    "colab_type": "text",
    "id": "X8GlMvT5xAVO"
   },
   "source": [
    "Another measure of user engagement is to observe how many songs each individual users has listened to for each state. "
   ]
  },
  {
   "cell_type": "code",
   "execution_count": 29,
   "metadata": {
    "colab": {
     "base_uri": "https://localhost:8080/",
     "height": 204
    },
    "colab_type": "code",
    "executionInfo": {
     "elapsed": 593,
     "status": "ok",
     "timestamp": 1555888345010,
     "user": {
      "displayName": "Alex Lim",
      "photoUrl": "https://lh5.googleusercontent.com/-1gZhw-_QR0c/AAAAAAAAAAI/AAAAAAAAAZQ/HMrUSEjOkJc/s64/photo.jpg",
      "userId": "12332462604429038341"
     },
     "user_tz": 420
    },
    "id": "AhjYYOCDwE2D",
    "outputId": "e3b357a1-60c5-4ede-e9ae-8d4e61226aa9"
   },
   "outputs": [
    {
     "data": {
      "text/html": [
       "<div>\n",
       "<style scoped>\n",
       "    .dataframe tbody tr th:only-of-type {\n",
       "        vertical-align: middle;\n",
       "    }\n",
       "\n",
       "    .dataframe tbody tr th {\n",
       "        vertical-align: top;\n",
       "    }\n",
       "\n",
       "    .dataframe thead th {\n",
       "        text-align: right;\n",
       "    }\n",
       "</style>\n",
       "<table border=\"1\" class=\"dataframe\">\n",
       "  <thead>\n",
       "    <tr style=\"text-align: right;\">\n",
       "      <th></th>\n",
       "      <th>user_state</th>\n",
       "      <th>play_count</th>\n",
       "    </tr>\n",
       "  </thead>\n",
       "  <tbody>\n",
       "    <tr>\n",
       "      <th>0</th>\n",
       "      <td>Alabama</td>\n",
       "      <td>104</td>\n",
       "    </tr>\n",
       "    <tr>\n",
       "      <th>1</th>\n",
       "      <td>Alaska</td>\n",
       "      <td>58</td>\n",
       "    </tr>\n",
       "    <tr>\n",
       "      <th>2</th>\n",
       "      <td>Arizona</td>\n",
       "      <td>22</td>\n",
       "    </tr>\n",
       "    <tr>\n",
       "      <th>3</th>\n",
       "      <td>Arkansas</td>\n",
       "      <td>34</td>\n",
       "    </tr>\n",
       "    <tr>\n",
       "      <th>4</th>\n",
       "      <td>California</td>\n",
       "      <td>425</td>\n",
       "    </tr>\n",
       "  </tbody>\n",
       "</table>\n",
       "</div>"
      ],
      "text/plain": [
       "   user_state  play_count\n",
       "0     Alabama         104\n",
       "1      Alaska          58\n",
       "2     Arizona          22\n",
       "3    Arkansas          34\n",
       "4  California         425"
      ]
     },
     "execution_count": 29,
     "metadata": {},
     "output_type": "execute_result"
    }
   ],
   "source": [
    "state_play_count = data_df.groupby('user_state')['id'].count().reset_index()\n",
    "state_play_count = state_play_count.rename(columns={'id':'play_count'})\n",
    "state_play_count.head()"
   ]
  },
  {
   "cell_type": "code",
   "execution_count": 30,
   "metadata": {
    "colab": {
     "base_uri": "https://localhost:8080/",
     "height": 204
    },
    "colab_type": "code",
    "executionInfo": {
     "elapsed": 418,
     "status": "ok",
     "timestamp": 1555888345011,
     "user": {
      "displayName": "Alex Lim",
      "photoUrl": "https://lh5.googleusercontent.com/-1gZhw-_QR0c/AAAAAAAAAAI/AAAAAAAAAZQ/HMrUSEjOkJc/s64/photo.jpg",
      "userId": "12332462604429038341"
     },
     "user_tz": 420
    },
    "id": "jUKqpsAvxUUn",
    "outputId": "cdb82d78-72d5-440c-c325-b97925658fd6"
   },
   "outputs": [
    {
     "data": {
      "text/html": [
       "<div>\n",
       "<style scoped>\n",
       "    .dataframe tbody tr th:only-of-type {\n",
       "        vertical-align: middle;\n",
       "    }\n",
       "\n",
       "    .dataframe tbody tr th {\n",
       "        vertical-align: top;\n",
       "    }\n",
       "\n",
       "    .dataframe thead th {\n",
       "        text-align: right;\n",
       "    }\n",
       "</style>\n",
       "<table border=\"1\" class=\"dataframe\">\n",
       "  <thead>\n",
       "    <tr style=\"text-align: right;\">\n",
       "      <th></th>\n",
       "      <th>level_0</th>\n",
       "      <th>user_state</th>\n",
       "      <th>play_count</th>\n",
       "      <th>index</th>\n",
       "      <th>user_count</th>\n",
       "      <th>average_play</th>\n",
       "    </tr>\n",
       "  </thead>\n",
       "  <tbody>\n",
       "    <tr>\n",
       "      <th>0</th>\n",
       "      <td>22</td>\n",
       "      <td>Nebraska</td>\n",
       "      <td>36</td>\n",
       "      <td>22</td>\n",
       "      <td>1</td>\n",
       "      <td>36.000000</td>\n",
       "    </tr>\n",
       "    <tr>\n",
       "      <th>1</th>\n",
       "      <td>1</td>\n",
       "      <td>Alaska</td>\n",
       "      <td>58</td>\n",
       "      <td>1</td>\n",
       "      <td>2</td>\n",
       "      <td>29.000000</td>\n",
       "    </tr>\n",
       "    <tr>\n",
       "      <th>2</th>\n",
       "      <td>20</td>\n",
       "      <td>Mississippi</td>\n",
       "      <td>85</td>\n",
       "      <td>20</td>\n",
       "      <td>3</td>\n",
       "      <td>28.333333</td>\n",
       "    </tr>\n",
       "    <tr>\n",
       "      <th>3</th>\n",
       "      <td>33</td>\n",
       "      <td>South Carolina</td>\n",
       "      <td>85</td>\n",
       "      <td>33</td>\n",
       "      <td>3</td>\n",
       "      <td>28.333333</td>\n",
       "    </tr>\n",
       "    <tr>\n",
       "      <th>4</th>\n",
       "      <td>32</td>\n",
       "      <td>Rhode Island</td>\n",
       "      <td>27</td>\n",
       "      <td>32</td>\n",
       "      <td>1</td>\n",
       "      <td>27.000000</td>\n",
       "    </tr>\n",
       "  </tbody>\n",
       "</table>\n",
       "</div>"
      ],
      "text/plain": [
       "   level_0      user_state  play_count  index  user_count  average_play\n",
       "0       22        Nebraska          36     22           1     36.000000\n",
       "1        1          Alaska          58      1           2     29.000000\n",
       "2       20     Mississippi          85     20           3     28.333333\n",
       "3       33  South Carolina          85     33           3     28.333333\n",
       "4       32    Rhode Island          27     32           1     27.000000"
      ]
     },
     "execution_count": 30,
     "metadata": {},
     "output_type": "execute_result"
    }
   ],
   "source": [
    "# Merge user count and play count\n",
    "state_user_play = pd.merge(left=state_play_count, right=state_user_count, on='user_state')\n",
    "\n",
    "# Calculate the average plays per user by state and sort from highest\n",
    "state_user_play['average_play'] = state_user_play['play_count']/state_user_play['user_count']\n",
    "state_user_play = state_user_play.sort_values(by='average_play', ascending=False).reset_index()\n",
    "state_user_play.head()"
   ]
  },
  {
   "cell_type": "code",
   "execution_count": 31,
   "metadata": {
    "colab": {
     "base_uri": "https://localhost:8080/",
     "height": 414
    },
    "colab_type": "code",
    "executionInfo": {
     "elapsed": 1097,
     "status": "ok",
     "timestamp": 1555888345907,
     "user": {
      "displayName": "Alex Lim",
      "photoUrl": "https://lh5.googleusercontent.com/-1gZhw-_QR0c/AAAAAAAAAAI/AAAAAAAAAZQ/HMrUSEjOkJc/s64/photo.jpg",
      "userId": "12332462604429038341"
     },
     "user_tz": 420
    },
    "id": "RW3aTShmy1Ex",
    "outputId": "7a28a208-969d-4959-9ea6-abd429a3116c"
   },
   "outputs": [
    {
     "data": {
      "image/png": "[encoded data removed]",
      "text/plain": [
       "<Figure size 432x288 with 1 Axes>"
      ]
     },
     "metadata": {
      "needs_background": "light"
     },
     "output_type": "display_data"
    }
   ],
   "source": [
    "plot = sns.barplot(x=state_user_play['user_state'], y=state_user_play['average_play'])\n",
    "plot.set_xticklabels(labels=state_user_play['user_state'], rotation=90);\n",
    "plt.title('Average Song Plays per User by State');\n",
    "plt.xlabel('State');\n",
    "plt.ylabel('Average Song Plays per User');"
   ]
  },
  {
   "cell_type": "markdown",
   "metadata": {
    "colab_type": "text",
    "id": "JnzPv0IZyoTu"
   },
   "source": [
    "#### Top 3 States (Average Song Plays per User)"
   ]
  },
  {
   "cell_type": "code",
   "execution_count": 32,
   "metadata": {
    "colab": {
     "base_uri": "https://localhost:8080/",
     "height": 142
    },
    "colab_type": "code",
    "executionInfo": {
     "elapsed": 730,
     "status": "ok",
     "timestamp": 1555888345908,
     "user": {
      "displayName": "Alex Lim",
      "photoUrl": "https://lh5.googleusercontent.com/-1gZhw-_QR0c/AAAAAAAAAAI/AAAAAAAAAZQ/HMrUSEjOkJc/s64/photo.jpg",
      "userId": "12332462604429038341"
     },
     "user_tz": 420
    },
    "id": "JLOOvZMZx92E",
    "outputId": "00f297a6-1dbd-4230-e898-7fe4c952a24d"
   },
   "outputs": [
    {
     "data": {
      "text/html": [
       "<div>\n",
       "<style scoped>\n",
       "    .dataframe tbody tr th:only-of-type {\n",
       "        vertical-align: middle;\n",
       "    }\n",
       "\n",
       "    .dataframe tbody tr th {\n",
       "        vertical-align: top;\n",
       "    }\n",
       "\n",
       "    .dataframe thead th {\n",
       "        text-align: right;\n",
       "    }\n",
       "</style>\n",
       "<table border=\"1\" class=\"dataframe\">\n",
       "  <thead>\n",
       "    <tr style=\"text-align: right;\">\n",
       "      <th></th>\n",
       "      <th>level_0</th>\n",
       "      <th>user_state</th>\n",
       "      <th>play_count</th>\n",
       "      <th>index</th>\n",
       "      <th>user_count</th>\n",
       "      <th>average_play</th>\n",
       "    </tr>\n",
       "  </thead>\n",
       "  <tbody>\n",
       "    <tr>\n",
       "      <th>0</th>\n",
       "      <td>22</td>\n",
       "      <td>Nebraska</td>\n",
       "      <td>36</td>\n",
       "      <td>22</td>\n",
       "      <td>1</td>\n",
       "      <td>36.000000</td>\n",
       "    </tr>\n",
       "    <tr>\n",
       "      <th>1</th>\n",
       "      <td>1</td>\n",
       "      <td>Alaska</td>\n",
       "      <td>58</td>\n",
       "      <td>1</td>\n",
       "      <td>2</td>\n",
       "      <td>29.000000</td>\n",
       "    </tr>\n",
       "    <tr>\n",
       "      <th>2</th>\n",
       "      <td>20</td>\n",
       "      <td>Mississippi</td>\n",
       "      <td>85</td>\n",
       "      <td>20</td>\n",
       "      <td>3</td>\n",
       "      <td>28.333333</td>\n",
       "    </tr>\n",
       "  </tbody>\n",
       "</table>\n",
       "</div>"
      ],
      "text/plain": [
       "   level_0   user_state  play_count  index  user_count  average_play\n",
       "0       22     Nebraska          36     22           1     36.000000\n",
       "1        1       Alaska          58      1           2     29.000000\n",
       "2       20  Mississippi          85     20           3     28.333333"
      ]
     },
     "execution_count": 32,
     "metadata": {},
     "output_type": "execute_result"
    }
   ],
   "source": [
    "state_user_play.head(3)"
   ]
  },
  {
   "cell_type": "markdown",
   "metadata": {
    "colab_type": "text",
    "id": "8iBiH5exys1t"
   },
   "source": [
    "#### Bottom 3 States (Average Song Plays per User)"
   ]
  },
  {
   "cell_type": "code",
   "execution_count": 33,
   "metadata": {
    "colab": {
     "base_uri": "https://localhost:8080/",
     "height": 142
    },
    "colab_type": "code",
    "executionInfo": {
     "elapsed": 360,
     "status": "ok",
     "timestamp": 1555888345909,
     "user": {
      "displayName": "Alex Lim",
      "photoUrl": "https://lh5.googleusercontent.com/-1gZhw-_QR0c/AAAAAAAAAAI/AAAAAAAAAZQ/HMrUSEjOkJc/s64/photo.jpg",
      "userId": "12332462604429038341"
     },
     "user_tz": 420
    },
    "id": "uDbBYkLLysHE",
    "outputId": "b1e5b5fe-6bf3-46d1-8112-27a1a6fb665f"
   },
   "outputs": [
    {
     "data": {
      "text/html": [
       "<div>\n",
       "<style scoped>\n",
       "    .dataframe tbody tr th:only-of-type {\n",
       "        vertical-align: middle;\n",
       "    }\n",
       "\n",
       "    .dataframe tbody tr th {\n",
       "        vertical-align: top;\n",
       "    }\n",
       "\n",
       "    .dataframe thead th {\n",
       "        text-align: right;\n",
       "    }\n",
       "</style>\n",
       "<table border=\"1\" class=\"dataframe\">\n",
       "  <thead>\n",
       "    <tr style=\"text-align: right;\">\n",
       "      <th></th>\n",
       "      <th>level_0</th>\n",
       "      <th>user_state</th>\n",
       "      <th>play_count</th>\n",
       "      <th>index</th>\n",
       "      <th>user_count</th>\n",
       "      <th>average_play</th>\n",
       "    </tr>\n",
       "  </thead>\n",
       "  <tbody>\n",
       "    <tr>\n",
       "      <th>38</th>\n",
       "      <td>19</td>\n",
       "      <td>Minnesota</td>\n",
       "      <td>42</td>\n",
       "      <td>19</td>\n",
       "      <td>4</td>\n",
       "      <td>10.5</td>\n",
       "    </tr>\n",
       "    <tr>\n",
       "      <th>39</th>\n",
       "      <td>37</td>\n",
       "      <td>Virginia</td>\n",
       "      <td>17</td>\n",
       "      <td>37</td>\n",
       "      <td>2</td>\n",
       "      <td>8.5</td>\n",
       "    </tr>\n",
       "    <tr>\n",
       "      <th>40</th>\n",
       "      <td>13</td>\n",
       "      <td>Kansas</td>\n",
       "      <td>8</td>\n",
       "      <td>13</td>\n",
       "      <td>1</td>\n",
       "      <td>8.0</td>\n",
       "    </tr>\n",
       "  </tbody>\n",
       "</table>\n",
       "</div>"
      ],
      "text/plain": [
       "    level_0 user_state  play_count  index  user_count  average_play\n",
       "38       19  Minnesota          42     19           4          10.5\n",
       "39       37   Virginia          17     37           2           8.5\n",
       "40       13     Kansas           8     13           1           8.0"
      ]
     },
     "execution_count": 33,
     "metadata": {},
     "output_type": "execute_result"
    }
   ],
   "source": [
    "state_user_play.tail(3)"
   ]
  },
  {
   "cell_type": "markdown",
   "metadata": {
    "colab_type": "text",
    "id": "TMjTChrH0eWZ"
   },
   "source": [
    "## Question: Who are the first users from each state that signed up?"
   ]
  },
  {
   "cell_type": "markdown",
   "metadata": {
    "colab_type": "text",
    "id": "olhROtg70rdB"
   },
   "source": [
    "The CEO wants to send a gift to the first users who signed up for each state. In order to do this, we have to observe the column ```user_sign_up_date``. "
   ]
  },
  {
   "cell_type": "code",
   "execution_count": 34,
   "metadata": {
    "colab": {},
    "colab_type": "code",
    "id": "kqqdGWbdyvQY"
   },
   "outputs": [],
   "source": [
    "first_users = data_df.groupby('user_state').apply(lambda x: x.sort_values(by='user_sign_up_date').iloc[0])"
   ]
  },
  {
   "cell_type": "code",
   "execution_count": 35,
   "metadata": {
    "colab": {
     "base_uri": "https://localhost:8080/",
     "height": 235
    },
    "colab_type": "code",
    "executionInfo": {
     "elapsed": 319,
     "status": "ok",
     "timestamp": 1555888347162,
     "user": {
      "displayName": "Alex Lim",
      "photoUrl": "https://lh5.googleusercontent.com/-1gZhw-_QR0c/AAAAAAAAAAI/AAAAAAAAAZQ/HMrUSEjOkJc/s64/photo.jpg",
      "userId": "12332462604429038341"
     },
     "user_tz": 420
    },
    "id": "Rsue4hCj1z8E",
    "outputId": "889b6df7-5671-4033-b65a-9ee9bf0eb097"
   },
   "outputs": [
    {
     "data": {
      "text/html": [
       "<div>\n",
       "<style scoped>\n",
       "    .dataframe tbody tr th:only-of-type {\n",
       "        vertical-align: middle;\n",
       "    }\n",
       "\n",
       "    .dataframe tbody tr th {\n",
       "        vertical-align: top;\n",
       "    }\n",
       "\n",
       "    .dataframe thead th {\n",
       "        text-align: right;\n",
       "    }\n",
       "</style>\n",
       "<table border=\"1\" class=\"dataframe\">\n",
       "  <thead>\n",
       "    <tr style=\"text-align: right;\">\n",
       "      <th></th>\n",
       "      <th>id</th>\n",
       "      <th>song_played</th>\n",
       "      <th>datetime_played</th>\n",
       "      <th>weekday_played</th>\n",
       "      <th>hour_played</th>\n",
       "      <th>user_id</th>\n",
       "      <th>user_sign_up_date</th>\n",
       "      <th>user_state</th>\n",
       "    </tr>\n",
       "    <tr>\n",
       "      <th>user_state</th>\n",
       "      <th></th>\n",
       "      <th></th>\n",
       "      <th></th>\n",
       "      <th></th>\n",
       "      <th></th>\n",
       "      <th></th>\n",
       "      <th></th>\n",
       "      <th></th>\n",
       "    </tr>\n",
       "  </thead>\n",
       "  <tbody>\n",
       "    <tr>\n",
       "      <th>Alabama</th>\n",
       "      <td>YNQCWJKGUX</td>\n",
       "      <td>Help!</td>\n",
       "      <td>2015-06-15 16:53:10</td>\n",
       "      <td>0</td>\n",
       "      <td>16</td>\n",
       "      <td>5</td>\n",
       "      <td>2015-05-01</td>\n",
       "      <td>Alabama</td>\n",
       "    </tr>\n",
       "    <tr>\n",
       "      <th>Alaska</th>\n",
       "      <td>MHXECRSEEA</td>\n",
       "      <td>Revolution</td>\n",
       "      <td>2015-06-11 10:20:35</td>\n",
       "      <td>3</td>\n",
       "      <td>10</td>\n",
       "      <td>106</td>\n",
       "      <td>2015-05-12</td>\n",
       "      <td>Alaska</td>\n",
       "    </tr>\n",
       "    <tr>\n",
       "      <th>Arizona</th>\n",
       "      <td>NQIOZURYLR</td>\n",
       "      <td>A Day In The Life</td>\n",
       "      <td>2015-06-19 12:48:25</td>\n",
       "      <td>4</td>\n",
       "      <td>12</td>\n",
       "      <td>105</td>\n",
       "      <td>2015-05-12</td>\n",
       "      <td>Arizona</td>\n",
       "    </tr>\n",
       "    <tr>\n",
       "      <th>Arkansas</th>\n",
       "      <td>QWWKOJENQF</td>\n",
       "      <td>Come Together</td>\n",
       "      <td>2015-06-28 17:40:11</td>\n",
       "      <td>6</td>\n",
       "      <td>17</td>\n",
       "      <td>78</td>\n",
       "      <td>2015-05-08</td>\n",
       "      <td>Arkansas</td>\n",
       "    </tr>\n",
       "    <tr>\n",
       "      <th>California</th>\n",
       "      <td>VMNIDXAYBK</td>\n",
       "      <td>Come Together</td>\n",
       "      <td>2015-06-08 09:44:19</td>\n",
       "      <td>0</td>\n",
       "      <td>9</td>\n",
       "      <td>39</td>\n",
       "      <td>2015-05-04</td>\n",
       "      <td>California</td>\n",
       "    </tr>\n",
       "  </tbody>\n",
       "</table>\n",
       "</div>"
      ],
      "text/plain": [
       "                    id        song_played     datetime_played  weekday_played  \\\n",
       "user_state                                                                      \n",
       "Alabama     YNQCWJKGUX              Help! 2015-06-15 16:53:10               0   \n",
       "Alaska      MHXECRSEEA         Revolution 2015-06-11 10:20:35               3   \n",
       "Arizona     NQIOZURYLR  A Day In The Life 2015-06-19 12:48:25               4   \n",
       "Arkansas    QWWKOJENQF      Come Together 2015-06-28 17:40:11               6   \n",
       "California  VMNIDXAYBK      Come Together 2015-06-08 09:44:19               0   \n",
       "\n",
       "            hour_played  user_id user_sign_up_date  user_state  \n",
       "user_state                                                      \n",
       "Alabama              16        5        2015-05-01     Alabama  \n",
       "Alaska               10      106        2015-05-12      Alaska  \n",
       "Arizona              12      105        2015-05-12     Arizona  \n",
       "Arkansas             17       78        2015-05-08    Arkansas  \n",
       "California            9       39        2015-05-04  California  "
      ]
     },
     "execution_count": 35,
     "metadata": {},
     "output_type": "execute_result"
    }
   ],
   "source": [
    "first_users.head()"
   ]
  },
  {
   "cell_type": "markdown",
   "metadata": {
    "colab_type": "text",
    "id": "qmAehMgG2AXb"
   },
   "source": [
    "We can further extract only the columns that are useful for our analysis: the ```user_id``` and ```user_sign_up_date```."
   ]
  },
  {
   "cell_type": "code",
   "execution_count": 36,
   "metadata": {
    "colab": {
     "base_uri": "https://localhost:8080/",
     "height": 1351
    },
    "colab_type": "code",
    "executionInfo": {
     "elapsed": 697,
     "status": "ok",
     "timestamp": 1555888347924,
     "user": {
      "displayName": "Alex Lim",
      "photoUrl": "https://lh5.googleusercontent.com/-1gZhw-_QR0c/AAAAAAAAAAI/AAAAAAAAAZQ/HMrUSEjOkJc/s64/photo.jpg",
      "userId": "12332462604429038341"
     },
     "user_tz": 420
    },
    "id": "rg-JDGA01OdN",
    "outputId": "928e144d-b3a4-4410-8422-fc122e56ab87",
    "scrolled": true
   },
   "outputs": [
    {
     "data": {
      "text/html": [
       "<div>\n",
       "<style scoped>\n",
       "    .dataframe tbody tr th:only-of-type {\n",
       "        vertical-align: middle;\n",
       "    }\n",
       "\n",
       "    .dataframe tbody tr th {\n",
       "        vertical-align: top;\n",
       "    }\n",
       "\n",
       "    .dataframe thead th {\n",
       "        text-align: right;\n",
       "    }\n",
       "</style>\n",
       "<table border=\"1\" class=\"dataframe\">\n",
       "  <thead>\n",
       "    <tr style=\"text-align: right;\">\n",
       "      <th></th>\n",
       "      <th>user_id</th>\n",
       "      <th>user_sign_up_date</th>\n",
       "    </tr>\n",
       "    <tr>\n",
       "      <th>user_state</th>\n",
       "      <th></th>\n",
       "      <th></th>\n",
       "    </tr>\n",
       "  </thead>\n",
       "  <tbody>\n",
       "    <tr>\n",
       "      <th>Alabama</th>\n",
       "      <td>5</td>\n",
       "      <td>2015-05-01</td>\n",
       "    </tr>\n",
       "    <tr>\n",
       "      <th>Alaska</th>\n",
       "      <td>106</td>\n",
       "      <td>2015-05-12</td>\n",
       "    </tr>\n",
       "    <tr>\n",
       "      <th>Arizona</th>\n",
       "      <td>105</td>\n",
       "      <td>2015-05-12</td>\n",
       "    </tr>\n",
       "    <tr>\n",
       "      <th>Arkansas</th>\n",
       "      <td>78</td>\n",
       "      <td>2015-05-08</td>\n",
       "    </tr>\n",
       "    <tr>\n",
       "      <th>California</th>\n",
       "      <td>39</td>\n",
       "      <td>2015-05-04</td>\n",
       "    </tr>\n",
       "    <tr>\n",
       "      <th>Colorado</th>\n",
       "      <td>173</td>\n",
       "      <td>2015-05-19</td>\n",
       "    </tr>\n",
       "    <tr>\n",
       "      <th>Connecticut</th>\n",
       "      <td>127</td>\n",
       "      <td>2015-05-16</td>\n",
       "    </tr>\n",
       "    <tr>\n",
       "      <th>Florida</th>\n",
       "      <td>41</td>\n",
       "      <td>2015-05-04</td>\n",
       "    </tr>\n",
       "    <tr>\n",
       "      <th>Georgia</th>\n",
       "      <td>16</td>\n",
       "      <td>2015-05-02</td>\n",
       "    </tr>\n",
       "    <tr>\n",
       "      <th>Idaho</th>\n",
       "      <td>165</td>\n",
       "      <td>2015-05-19</td>\n",
       "    </tr>\n",
       "    <tr>\n",
       "      <th>Illinois</th>\n",
       "      <td>45</td>\n",
       "      <td>2015-05-05</td>\n",
       "    </tr>\n",
       "    <tr>\n",
       "      <th>Indiana</th>\n",
       "      <td>102</td>\n",
       "      <td>2015-05-12</td>\n",
       "    </tr>\n",
       "    <tr>\n",
       "      <th>Iowa</th>\n",
       "      <td>178</td>\n",
       "      <td>2015-05-19</td>\n",
       "    </tr>\n",
       "    <tr>\n",
       "      <th>Kansas</th>\n",
       "      <td>177</td>\n",
       "      <td>2015-05-19</td>\n",
       "    </tr>\n",
       "    <tr>\n",
       "      <th>Kentucky</th>\n",
       "      <td>34</td>\n",
       "      <td>2015-05-04</td>\n",
       "    </tr>\n",
       "    <tr>\n",
       "      <th>Louisiana</th>\n",
       "      <td>50</td>\n",
       "      <td>2015-05-06</td>\n",
       "    </tr>\n",
       "    <tr>\n",
       "      <th>Maryland</th>\n",
       "      <td>18</td>\n",
       "      <td>2015-05-02</td>\n",
       "    </tr>\n",
       "    <tr>\n",
       "      <th>Massachusetts</th>\n",
       "      <td>15</td>\n",
       "      <td>2015-05-02</td>\n",
       "    </tr>\n",
       "    <tr>\n",
       "      <th>Michigan</th>\n",
       "      <td>13</td>\n",
       "      <td>2015-05-02</td>\n",
       "    </tr>\n",
       "    <tr>\n",
       "      <th>Minnesota</th>\n",
       "      <td>21</td>\n",
       "      <td>2015-05-02</td>\n",
       "    </tr>\n",
       "    <tr>\n",
       "      <th>Mississippi</th>\n",
       "      <td>23</td>\n",
       "      <td>2015-05-02</td>\n",
       "    </tr>\n",
       "    <tr>\n",
       "      <th>Missouri</th>\n",
       "      <td>85</td>\n",
       "      <td>2015-05-09</td>\n",
       "    </tr>\n",
       "    <tr>\n",
       "      <th>Nebraska</th>\n",
       "      <td>134</td>\n",
       "      <td>2015-05-16</td>\n",
       "    </tr>\n",
       "    <tr>\n",
       "      <th>New Jersey</th>\n",
       "      <td>6</td>\n",
       "      <td>2015-05-01</td>\n",
       "    </tr>\n",
       "    <tr>\n",
       "      <th>New Mexico</th>\n",
       "      <td>4</td>\n",
       "      <td>2015-05-01</td>\n",
       "    </tr>\n",
       "    <tr>\n",
       "      <th>New York</th>\n",
       "      <td>12</td>\n",
       "      <td>2015-05-02</td>\n",
       "    </tr>\n",
       "    <tr>\n",
       "      <th>North Carolina</th>\n",
       "      <td>2</td>\n",
       "      <td>2015-05-01</td>\n",
       "    </tr>\n",
       "    <tr>\n",
       "      <th>North Dakota</th>\n",
       "      <td>135</td>\n",
       "      <td>2015-05-17</td>\n",
       "    </tr>\n",
       "    <tr>\n",
       "      <th>Ohio</th>\n",
       "      <td>3</td>\n",
       "      <td>2015-05-01</td>\n",
       "    </tr>\n",
       "    <tr>\n",
       "      <th>Oklahoma</th>\n",
       "      <td>119</td>\n",
       "      <td>2015-05-16</td>\n",
       "    </tr>\n",
       "    <tr>\n",
       "      <th>Oregon</th>\n",
       "      <td>1</td>\n",
       "      <td>2015-05-01</td>\n",
       "    </tr>\n",
       "    <tr>\n",
       "      <th>Pennsylvania</th>\n",
       "      <td>11</td>\n",
       "      <td>2015-05-02</td>\n",
       "    </tr>\n",
       "    <tr>\n",
       "      <th>Rhode Island</th>\n",
       "      <td>174</td>\n",
       "      <td>2015-05-19</td>\n",
       "    </tr>\n",
       "    <tr>\n",
       "      <th>South Carolina</th>\n",
       "      <td>64</td>\n",
       "      <td>2015-05-08</td>\n",
       "    </tr>\n",
       "    <tr>\n",
       "      <th>Tennessee</th>\n",
       "      <td>70</td>\n",
       "      <td>2015-05-08</td>\n",
       "    </tr>\n",
       "    <tr>\n",
       "      <th>Texas</th>\n",
       "      <td>7</td>\n",
       "      <td>2015-05-01</td>\n",
       "    </tr>\n",
       "    <tr>\n",
       "      <th>Utah</th>\n",
       "      <td>29</td>\n",
       "      <td>2015-05-03</td>\n",
       "    </tr>\n",
       "    <tr>\n",
       "      <th>Virginia</th>\n",
       "      <td>142</td>\n",
       "      <td>2015-05-17</td>\n",
       "    </tr>\n",
       "    <tr>\n",
       "      <th>Washington</th>\n",
       "      <td>125</td>\n",
       "      <td>2015-05-16</td>\n",
       "    </tr>\n",
       "    <tr>\n",
       "      <th>West Virginia</th>\n",
       "      <td>60</td>\n",
       "      <td>2015-05-07</td>\n",
       "    </tr>\n",
       "    <tr>\n",
       "      <th>Wisconsin</th>\n",
       "      <td>32</td>\n",
       "      <td>2015-05-04</td>\n",
       "    </tr>\n",
       "  </tbody>\n",
       "</table>\n",
       "</div>"
      ],
      "text/plain": [
       "                user_id user_sign_up_date\n",
       "user_state                               \n",
       "Alabama               5        2015-05-01\n",
       "Alaska              106        2015-05-12\n",
       "Arizona             105        2015-05-12\n",
       "Arkansas             78        2015-05-08\n",
       "California           39        2015-05-04\n",
       "Colorado            173        2015-05-19\n",
       "Connecticut         127        2015-05-16\n",
       "Florida              41        2015-05-04\n",
       "Georgia              16        2015-05-02\n",
       "Idaho               165        2015-05-19\n",
       "Illinois             45        2015-05-05\n",
       "Indiana             102        2015-05-12\n",
       "Iowa                178        2015-05-19\n",
       "Kansas              177        2015-05-19\n",
       "Kentucky             34        2015-05-04\n",
       "Louisiana            50        2015-05-06\n",
       "Maryland             18        2015-05-02\n",
       "Massachusetts        15        2015-05-02\n",
       "Michigan             13        2015-05-02\n",
       "Minnesota            21        2015-05-02\n",
       "Mississippi          23        2015-05-02\n",
       "Missouri             85        2015-05-09\n",
       "Nebraska            134        2015-05-16\n",
       "New Jersey            6        2015-05-01\n",
       "New Mexico            4        2015-05-01\n",
       "New York             12        2015-05-02\n",
       "North Carolina        2        2015-05-01\n",
       "North Dakota        135        2015-05-17\n",
       "Ohio                  3        2015-05-01\n",
       "Oklahoma            119        2015-05-16\n",
       "Oregon                1        2015-05-01\n",
       "Pennsylvania         11        2015-05-02\n",
       "Rhode Island        174        2015-05-19\n",
       "South Carolina       64        2015-05-08\n",
       "Tennessee            70        2015-05-08\n",
       "Texas                 7        2015-05-01\n",
       "Utah                 29        2015-05-03\n",
       "Virginia            142        2015-05-17\n",
       "Washington          125        2015-05-16\n",
       "West Virginia        60        2015-05-07\n",
       "Wisconsin            32        2015-05-04"
      ]
     },
     "execution_count": 36,
     "metadata": {},
     "output_type": "execute_result"
    }
   ],
   "source": [
    "first_users.loc[:, ['user_id', 'user_sign_up_date']]"
   ]
  },
  {
   "cell_type": "markdown",
   "metadata": {
    "colab_type": "text",
    "id": "9BGSgQ012NcY"
   },
   "source": [
    "## Recommender System"
   ]
  },
  {
   "cell_type": "markdown",
   "metadata": {
    "colab_type": "text",
    "id": "H7eaQUzhkZ9F"
   },
   "source": [
    "Build a function that takes as an input any of the songs in the data and returns the most likely song to be listened next. That is, if, for instance, a user is currently listening to \"Eight Days A Week\", which song has the highest probability of being played right after it by the same user? This is going to be v1 of a song recommendation model."
   ]
  },
  {
   "cell_type": "markdown",
   "metadata": {
    "colab_type": "text",
    "id": "WPlZmND4tEAZ"
   },
   "source": [
    "#### User Song Play Matrix"
   ]
  },
  {
   "cell_type": "markdown",
   "metadata": {
    "colab_type": "text",
    "id": "nuufYmWktJin"
   },
   "source": [
    "We first start off by constructing a matrix of songs to users and the number of times a certain user played a certain song."
   ]
  },
  {
   "cell_type": "code",
   "execution_count": 53,
   "metadata": {
    "colab": {
     "base_uri": "https://localhost:8080/",
     "height": 264
    },
    "colab_type": "code",
    "executionInfo": {
     "elapsed": 254,
     "status": "ok",
     "timestamp": 1555888355573,
     "user": {
      "displayName": "Alex Lim",
      "photoUrl": "https://lh5.googleusercontent.com/-1gZhw-_QR0c/AAAAAAAAAAI/AAAAAAAAAZQ/HMrUSEjOkJc/s64/photo.jpg",
      "userId": "12332462604429038341"
     },
     "user_tz": 420
    },
    "id": "UOnUNSOM1rhi",
    "outputId": "446c3796-65aa-406d-b912-0530ebb67249"
   },
   "outputs": [
    {
     "data": {
      "text/html": [
       "<div>\n",
       "<style scoped>\n",
       "    .dataframe tbody tr th:only-of-type {\n",
       "        vertical-align: middle;\n",
       "    }\n",
       "\n",
       "    .dataframe tbody tr th {\n",
       "        vertical-align: top;\n",
       "    }\n",
       "\n",
       "    .dataframe thead th {\n",
       "        text-align: right;\n",
       "    }\n",
       "</style>\n",
       "<table border=\"1\" class=\"dataframe\">\n",
       "  <thead>\n",
       "    <tr style=\"text-align: right;\">\n",
       "      <th>user_id</th>\n",
       "      <th>1</th>\n",
       "      <th>2</th>\n",
       "      <th>3</th>\n",
       "      <th>4</th>\n",
       "      <th>5</th>\n",
       "      <th>6</th>\n",
       "      <th>7</th>\n",
       "      <th>8</th>\n",
       "      <th>9</th>\n",
       "      <th>10</th>\n",
       "      <th>...</th>\n",
       "      <th>191</th>\n",
       "      <th>192</th>\n",
       "      <th>193</th>\n",
       "      <th>194</th>\n",
       "      <th>195</th>\n",
       "      <th>196</th>\n",
       "      <th>197</th>\n",
       "      <th>198</th>\n",
       "      <th>199</th>\n",
       "      <th>200</th>\n",
       "    </tr>\n",
       "    <tr>\n",
       "      <th>song_played</th>\n",
       "      <th></th>\n",
       "      <th></th>\n",
       "      <th></th>\n",
       "      <th></th>\n",
       "      <th></th>\n",
       "      <th></th>\n",
       "      <th></th>\n",
       "      <th></th>\n",
       "      <th></th>\n",
       "      <th></th>\n",
       "      <th></th>\n",
       "      <th></th>\n",
       "      <th></th>\n",
       "      <th></th>\n",
       "      <th></th>\n",
       "      <th></th>\n",
       "      <th></th>\n",
       "      <th></th>\n",
       "      <th></th>\n",
       "      <th></th>\n",
       "      <th></th>\n",
       "    </tr>\n",
       "  </thead>\n",
       "  <tbody>\n",
       "    <tr>\n",
       "      <th>A Day In The Life</th>\n",
       "      <td>0</td>\n",
       "      <td>0</td>\n",
       "      <td>1</td>\n",
       "      <td>3</td>\n",
       "      <td>0</td>\n",
       "      <td>2</td>\n",
       "      <td>0</td>\n",
       "      <td>0</td>\n",
       "      <td>0</td>\n",
       "      <td>0</td>\n",
       "      <td>...</td>\n",
       "      <td>0</td>\n",
       "      <td>0</td>\n",
       "      <td>3</td>\n",
       "      <td>3</td>\n",
       "      <td>0</td>\n",
       "      <td>2</td>\n",
       "      <td>0</td>\n",
       "      <td>0</td>\n",
       "      <td>2</td>\n",
       "      <td>0</td>\n",
       "    </tr>\n",
       "    <tr>\n",
       "      <th>A Hard Day's Night</th>\n",
       "      <td>0</td>\n",
       "      <td>0</td>\n",
       "      <td>0</td>\n",
       "      <td>0</td>\n",
       "      <td>0</td>\n",
       "      <td>1</td>\n",
       "      <td>0</td>\n",
       "      <td>0</td>\n",
       "      <td>1</td>\n",
       "      <td>0</td>\n",
       "      <td>...</td>\n",
       "      <td>0</td>\n",
       "      <td>0</td>\n",
       "      <td>0</td>\n",
       "      <td>0</td>\n",
       "      <td>1</td>\n",
       "      <td>0</td>\n",
       "      <td>0</td>\n",
       "      <td>0</td>\n",
       "      <td>0</td>\n",
       "      <td>0</td>\n",
       "    </tr>\n",
       "    <tr>\n",
       "      <th>A Saturday Club Xmas/Crimble Medley</th>\n",
       "      <td>0</td>\n",
       "      <td>0</td>\n",
       "      <td>0</td>\n",
       "      <td>0</td>\n",
       "      <td>0</td>\n",
       "      <td>0</td>\n",
       "      <td>0</td>\n",
       "      <td>0</td>\n",
       "      <td>0</td>\n",
       "      <td>0</td>\n",
       "      <td>...</td>\n",
       "      <td>0</td>\n",
       "      <td>0</td>\n",
       "      <td>0</td>\n",
       "      <td>0</td>\n",
       "      <td>0</td>\n",
       "      <td>0</td>\n",
       "      <td>0</td>\n",
       "      <td>0</td>\n",
       "      <td>0</td>\n",
       "      <td>0</td>\n",
       "    </tr>\n",
       "    <tr>\n",
       "      <th>ANYTIME AT ALL</th>\n",
       "      <td>0</td>\n",
       "      <td>0</td>\n",
       "      <td>0</td>\n",
       "      <td>0</td>\n",
       "      <td>0</td>\n",
       "      <td>0</td>\n",
       "      <td>0</td>\n",
       "      <td>0</td>\n",
       "      <td>0</td>\n",
       "      <td>0</td>\n",
       "      <td>...</td>\n",
       "      <td>0</td>\n",
       "      <td>0</td>\n",
       "      <td>0</td>\n",
       "      <td>0</td>\n",
       "      <td>0</td>\n",
       "      <td>0</td>\n",
       "      <td>0</td>\n",
       "      <td>0</td>\n",
       "      <td>0</td>\n",
       "      <td>0</td>\n",
       "    </tr>\n",
       "    <tr>\n",
       "      <th>Across The Universe</th>\n",
       "      <td>0</td>\n",
       "      <td>0</td>\n",
       "      <td>0</td>\n",
       "      <td>1</td>\n",
       "      <td>0</td>\n",
       "      <td>0</td>\n",
       "      <td>0</td>\n",
       "      <td>0</td>\n",
       "      <td>0</td>\n",
       "      <td>0</td>\n",
       "      <td>...</td>\n",
       "      <td>0</td>\n",
       "      <td>0</td>\n",
       "      <td>0</td>\n",
       "      <td>0</td>\n",
       "      <td>0</td>\n",
       "      <td>0</td>\n",
       "      <td>0</td>\n",
       "      <td>0</td>\n",
       "      <td>0</td>\n",
       "      <td>0</td>\n",
       "    </tr>\n",
       "  </tbody>\n",
       "</table>\n",
       "<p>5 rows × 196 columns</p>\n",
       "</div>"
      ],
      "text/plain": [
       "user_id                              1    2    3    4    5    6    7    8    \\\n",
       "song_played                                                                   \n",
       "A Day In The Life                      0    0    1    3    0    2    0    0   \n",
       "A Hard Day's Night                     0    0    0    0    0    1    0    0   \n",
       "A Saturday Club Xmas/Crimble Medley    0    0    0    0    0    0    0    0   \n",
       "ANYTIME AT ALL                         0    0    0    0    0    0    0    0   \n",
       "Across The Universe                    0    0    0    1    0    0    0    0   \n",
       "\n",
       "user_id                              9    10   ...  191  192  193  194  195  \\\n",
       "song_played                                    ...                            \n",
       "A Day In The Life                      0    0  ...    0    0    3    3    0   \n",
       "A Hard Day's Night                     1    0  ...    0    0    0    0    1   \n",
       "A Saturday Club Xmas/Crimble Medley    0    0  ...    0    0    0    0    0   \n",
       "ANYTIME AT ALL                         0    0  ...    0    0    0    0    0   \n",
       "Across The Universe                    0    0  ...    0    0    0    0    0   \n",
       "\n",
       "user_id                              196  197  198  199  200  \n",
       "song_played                                                   \n",
       "A Day In The Life                      2    0    0    2    0  \n",
       "A Hard Day's Night                     0    0    0    0    0  \n",
       "A Saturday Club Xmas/Crimble Medley    0    0    0    0    0  \n",
       "ANYTIME AT ALL                         0    0    0    0    0  \n",
       "Across The Universe                    0    0    0    0    0  \n",
       "\n",
       "[5 rows x 196 columns]"
      ]
     },
     "execution_count": 53,
     "metadata": {},
     "output_type": "execute_result"
    }
   ],
   "source": [
    "#￼# Create pivot table of song's and the count of how many times a user has listened to a song\n",
    "song_user_pivot = data_df.groupby(['song_played', 'user_id'])['id'].count().unstack(fill_value=0)\n",
    "song_user_pivot.head(5)"
   ]
  },
  {
   "cell_type": "code",
   "execution_count": 54,
   "metadata": {
    "colab": {
     "base_uri": "https://localhost:8080/",
     "height": 34
    },
    "colab_type": "code",
    "executionInfo": {
     "elapsed": 449,
     "status": "ok",
     "timestamp": 1555888356124,
     "user": {
      "displayName": "Alex Lim",
      "photoUrl": "https://lh5.googleusercontent.com/-1gZhw-_QR0c/AAAAAAAAAAI/AAAAAAAAAZQ/HMrUSEjOkJc/s64/photo.jpg",
      "userId": "12332462604429038341"
     },
     "user_tz": 420
    },
    "id": "46Vu9Owkpvy0",
    "outputId": "89ad498e-d861-4b5a-f95a-e635d8120347"
   },
   "outputs": [
    {
     "data": {
      "text/plain": [
       "(100, 196)"
      ]
     },
     "execution_count": 54,
     "metadata": {},
     "output_type": "execute_result"
    }
   ],
   "source": [
    "song_user_pivot.shape"
   ]
  },
  {
   "cell_type": "markdown",
   "metadata": {
    "colab_type": "text",
    "id": "_HLqB0vipth2"
   },
   "source": [
    "We observe that there are 100 distinct songs and 196 distinct users. However, it seems as if our ```user_id``` column counts from 1 to 200, but there are only 196 columns. Let's observe which ```user_id``` values are missing."
   ]
  },
  {
   "cell_type": "code",
   "execution_count": 55,
   "metadata": {
    "colab": {},
    "colab_type": "code",
    "id": "1VLIOHG8oU-E"
   },
   "outputs": [],
   "source": [
    "missing_ids = []\n",
    "for i in range(1, 201, 1):\n",
    "  if i in song_user_pivot.columns:\n",
    "    pass\n",
    "  else:\n",
    "    missing_ids.append(i)"
   ]
  },
  {
   "cell_type": "code",
   "execution_count": 56,
   "metadata": {
    "colab": {
     "base_uri": "https://localhost:8080/",
     "height": 34
    },
    "colab_type": "code",
    "executionInfo": {
     "elapsed": 378,
     "status": "ok",
     "timestamp": 1555888356815,
     "user": {
      "displayName": "Alex Lim",
      "photoUrl": "https://lh5.googleusercontent.com/-1gZhw-_QR0c/AAAAAAAAAAI/AAAAAAAAAZQ/HMrUSEjOkJc/s64/photo.jpg",
      "userId": "12332462604429038341"
     },
     "user_tz": 420
    },
    "id": "00nbRDJLpq9V",
    "outputId": "0ee5f470-ee96-44e6-d3cd-04ab9650d149"
   },
   "outputs": [
    {
     "data": {
      "text/plain": [
       "[28, 83, 139, 168]"
      ]
     },
     "execution_count": 56,
     "metadata": {},
     "output_type": "execute_result"
    }
   ],
   "source": [
    "missing_ids"
   ]
  },
  {
   "cell_type": "markdown",
   "metadata": {
    "colab_type": "text",
    "id": "XfziQykzp8aj"
   },
   "source": [
    "We see that ```user_id``` 28, 83, 139, and 168 are missing. However, this is fine as it does not affect our analysis. "
   ]
  },
  {
   "cell_type": "markdown",
   "metadata": {
    "colab_type": "text",
    "id": "Sx6S7rg53r33"
   },
   "source": [
    "### Item-Based Collaborative Filtering"
   ]
  },
  {
   "cell_type": "markdown",
   "metadata": {
    "colab_type": "text",
    "id": "1mZx4wrqtYSI"
   },
   "source": [
    "#### Song Similarity Matrix"
   ]
  },
  {
   "cell_type": "markdown",
   "metadata": {
    "colab_type": "text",
    "id": "AjUu29u9tes8"
   },
   "source": [
    "In our analysis, we will assume that users who play a certain song likely listen to songs that are similar to it. This may not hold in practice, but it is a sufficient assumption for our analysis. \n",
    "\n",
    "We first start by constructing a similarity matrix between songs based on our song/user song play count matrix. This is a type of **item-based collaborative filtering**. Collaborative filtering is a \"memory-based\" method for recommendations which uses the \"wisdom of the crowd\" . Item-based collaborative filtering observes only the items and the similarity between other items in the set. Based on this, typically similar items can be recommended to a user given an input item.\n",
    "\n",
    "For this analysis we will use the cosine similarity measure for similarity between songs. \n",
    "\n",
    "$$sim(\\vec{a}, \\vec{b}) = \\frac{\\vec{a}\\cdot\\vec{b}}{|\\vec{a}|*|\\vec{b}|}$$\n",
    "\n",
    "\n"
   ]
  },
  {
   "cell_type": "code",
   "execution_count": 57,
   "metadata": {
    "colab": {},
    "colab_type": "code",
    "id": "XdJ3Nj-TsK8X"
   },
   "outputs": [],
   "source": [
    "# Normalize the songs\n",
    "song_user_norm = normalize(song_user_pivot, axis=1, norm='l2')"
   ]
  },
  {
   "cell_type": "markdown",
   "metadata": {
    "colab_type": "text",
    "id": "HENE8WP-zkYG"
   },
   "source": [
    "After normalizing each song using the L2 (Euclidean) norm, the cosine similarity between two songs is simply the dot product."
   ]
  },
  {
   "cell_type": "code",
   "execution_count": 58,
   "metadata": {
    "colab": {
     "base_uri": "https://localhost:8080/",
     "height": 315
    },
    "colab_type": "code",
    "executionInfo": {
     "elapsed": 353,
     "status": "ok",
     "timestamp": 1555888361574,
     "user": {
      "displayName": "Alex Lim",
      "photoUrl": "https://lh5.googleusercontent.com/-1gZhw-_QR0c/AAAAAAAAAAI/AAAAAAAAAZQ/HMrUSEjOkJc/s64/photo.jpg",
      "userId": "12332462604429038341"
     },
     "user_tz": 420
    },
    "id": "DXm55TPasK6n",
    "outputId": "c2d1562b-38f3-44f4-df80-5ea8b0f4f558"
   },
   "outputs": [
    {
     "data": {
      "text/html": [
       "<div>\n",
       "<style scoped>\n",
       "    .dataframe tbody tr th:only-of-type {\n",
       "        vertical-align: middle;\n",
       "    }\n",
       "\n",
       "    .dataframe tbody tr th {\n",
       "        vertical-align: top;\n",
       "    }\n",
       "\n",
       "    .dataframe thead th {\n",
       "        text-align: right;\n",
       "    }\n",
       "</style>\n",
       "<table border=\"1\" class=\"dataframe\">\n",
       "  <thead>\n",
       "    <tr style=\"text-align: right;\">\n",
       "      <th>song_played</th>\n",
       "      <th>A Day In The Life</th>\n",
       "      <th>A Hard Day's Night</th>\n",
       "      <th>A Saturday Club Xmas/Crimble Medley</th>\n",
       "      <th>ANYTIME AT ALL</th>\n",
       "      <th>Across The Universe</th>\n",
       "      <th>All My Loving</th>\n",
       "      <th>All You Need Is Love</th>\n",
       "      <th>And Your Bird Can Sing</th>\n",
       "      <th>BAD BOY</th>\n",
       "      <th>BALLAD OF JOHN AND YOKO</th>\n",
       "      <th>...</th>\n",
       "      <th>We Can Work It Out</th>\n",
       "      <th>When I'm 64</th>\n",
       "      <th>While My Guitar Gently Weeps</th>\n",
       "      <th>Wild Honey Pie</th>\n",
       "      <th>With a Little Help From My Friends</th>\n",
       "      <th>YOUR MOTHER SHOULD KNOW</th>\n",
       "      <th>Yellow Submarine</th>\n",
       "      <th>Yesterday</th>\n",
       "      <th>You Never Give Me Your Money</th>\n",
       "      <th>You're Going To Lose That Girl</th>\n",
       "    </tr>\n",
       "    <tr>\n",
       "      <th>song_played</th>\n",
       "      <th></th>\n",
       "      <th></th>\n",
       "      <th></th>\n",
       "      <th></th>\n",
       "      <th></th>\n",
       "      <th></th>\n",
       "      <th></th>\n",
       "      <th></th>\n",
       "      <th></th>\n",
       "      <th></th>\n",
       "      <th></th>\n",
       "      <th></th>\n",
       "      <th></th>\n",
       "      <th></th>\n",
       "      <th></th>\n",
       "      <th></th>\n",
       "      <th></th>\n",
       "      <th></th>\n",
       "      <th></th>\n",
       "      <th></th>\n",
       "      <th></th>\n",
       "    </tr>\n",
       "  </thead>\n",
       "  <tbody>\n",
       "    <tr>\n",
       "      <th>A Day In The Life</th>\n",
       "      <td>1.000000</td>\n",
       "      <td>0.235702</td>\n",
       "      <td>0.074536</td>\n",
       "      <td>0.119523</td>\n",
       "      <td>0.212132</td>\n",
       "      <td>0.355023</td>\n",
       "      <td>0.329404</td>\n",
       "      <td>0.152145</td>\n",
       "      <td>0.210819</td>\n",
       "      <td>0.172133</td>\n",
       "      <td>...</td>\n",
       "      <td>0.464938</td>\n",
       "      <td>0.030429</td>\n",
       "      <td>0.508964</td>\n",
       "      <td>0.223607</td>\n",
       "      <td>0.359092</td>\n",
       "      <td>0.037268</td>\n",
       "      <td>0.318198</td>\n",
       "      <td>0.353220</td>\n",
       "      <td>0.087841</td>\n",
       "      <td>0.0</td>\n",
       "    </tr>\n",
       "    <tr>\n",
       "      <th>A Hard Day's Night</th>\n",
       "      <td>0.235702</td>\n",
       "      <td>1.000000</td>\n",
       "      <td>0.000000</td>\n",
       "      <td>0.000000</td>\n",
       "      <td>0.100000</td>\n",
       "      <td>0.136931</td>\n",
       "      <td>0.111803</td>\n",
       "      <td>0.000000</td>\n",
       "      <td>0.000000</td>\n",
       "      <td>0.091287</td>\n",
       "      <td>...</td>\n",
       "      <td>0.259548</td>\n",
       "      <td>0.129099</td>\n",
       "      <td>0.210099</td>\n",
       "      <td>0.000000</td>\n",
       "      <td>0.000000</td>\n",
       "      <td>0.000000</td>\n",
       "      <td>0.050000</td>\n",
       "      <td>0.195468</td>\n",
       "      <td>0.074536</td>\n",
       "      <td>0.0</td>\n",
       "    </tr>\n",
       "    <tr>\n",
       "      <th>A Saturday Club Xmas/Crimble Medley</th>\n",
       "      <td>0.074536</td>\n",
       "      <td>0.000000</td>\n",
       "      <td>1.000000</td>\n",
       "      <td>0.000000</td>\n",
       "      <td>0.000000</td>\n",
       "      <td>0.000000</td>\n",
       "      <td>0.000000</td>\n",
       "      <td>0.000000</td>\n",
       "      <td>0.000000</td>\n",
       "      <td>0.000000</td>\n",
       "      <td>...</td>\n",
       "      <td>0.109435</td>\n",
       "      <td>0.000000</td>\n",
       "      <td>0.000000</td>\n",
       "      <td>0.166667</td>\n",
       "      <td>0.000000</td>\n",
       "      <td>0.000000</td>\n",
       "      <td>0.000000</td>\n",
       "      <td>0.000000</td>\n",
       "      <td>0.000000</td>\n",
       "      <td>0.0</td>\n",
       "    </tr>\n",
       "    <tr>\n",
       "      <th>ANYTIME AT ALL</th>\n",
       "      <td>0.119523</td>\n",
       "      <td>0.000000</td>\n",
       "      <td>0.000000</td>\n",
       "      <td>1.000000</td>\n",
       "      <td>0.000000</td>\n",
       "      <td>0.154303</td>\n",
       "      <td>0.094491</td>\n",
       "      <td>0.109109</td>\n",
       "      <td>0.000000</td>\n",
       "      <td>0.000000</td>\n",
       "      <td>...</td>\n",
       "      <td>0.116991</td>\n",
       "      <td>0.000000</td>\n",
       "      <td>0.138107</td>\n",
       "      <td>0.089087</td>\n",
       "      <td>0.183942</td>\n",
       "      <td>0.000000</td>\n",
       "      <td>0.000000</td>\n",
       "      <td>0.146845</td>\n",
       "      <td>0.000000</td>\n",
       "      <td>0.0</td>\n",
       "    </tr>\n",
       "    <tr>\n",
       "      <th>Across The Universe</th>\n",
       "      <td>0.212132</td>\n",
       "      <td>0.100000</td>\n",
       "      <td>0.000000</td>\n",
       "      <td>0.000000</td>\n",
       "      <td>1.000000</td>\n",
       "      <td>0.091287</td>\n",
       "      <td>0.000000</td>\n",
       "      <td>0.000000</td>\n",
       "      <td>0.000000</td>\n",
       "      <td>0.000000</td>\n",
       "      <td>...</td>\n",
       "      <td>0.138426</td>\n",
       "      <td>0.000000</td>\n",
       "      <td>0.116722</td>\n",
       "      <td>0.000000</td>\n",
       "      <td>0.000000</td>\n",
       "      <td>0.000000</td>\n",
       "      <td>0.000000</td>\n",
       "      <td>0.043437</td>\n",
       "      <td>0.000000</td>\n",
       "      <td>0.0</td>\n",
       "    </tr>\n",
       "  </tbody>\n",
       "</table>\n",
       "<p>5 rows × 100 columns</p>\n",
       "</div>"
      ],
      "text/plain": [
       "song_played                          A Day In The Life  A Hard Day's Night  \\\n",
       "song_played                                                                  \n",
       "A Day In The Life                             1.000000            0.235702   \n",
       "A Hard Day's Night                            0.235702            1.000000   \n",
       "A Saturday Club Xmas/Crimble Medley           0.074536            0.000000   \n",
       "ANYTIME AT ALL                                0.119523            0.000000   \n",
       "Across The Universe                           0.212132            0.100000   \n",
       "\n",
       "song_played                          A Saturday Club Xmas/Crimble Medley  \\\n",
       "song_played                                                                \n",
       "A Day In The Life                                               0.074536   \n",
       "A Hard Day's Night                                              0.000000   \n",
       "A Saturday Club Xmas/Crimble Medley                             1.000000   \n",
       "ANYTIME AT ALL                                                  0.000000   \n",
       "Across The Universe                                             0.000000   \n",
       "\n",
       "song_played                          ANYTIME AT ALL  Across The Universe  \\\n",
       "song_played                                                                \n",
       "A Day In The Life                          0.119523             0.212132   \n",
       "A Hard Day's Night                         0.000000             0.100000   \n",
       "A Saturday Club Xmas/Crimble Medley        0.000000             0.000000   \n",
       "ANYTIME AT ALL                             1.000000             0.000000   \n",
       "Across The Universe                        0.000000             1.000000   \n",
       "\n",
       "song_played                          All My Loving  All You Need Is Love  \\\n",
       "song_played                                                                \n",
       "A Day In The Life                         0.355023              0.329404   \n",
       "A Hard Day's Night                        0.136931              0.111803   \n",
       "A Saturday Club Xmas/Crimble Medley       0.000000              0.000000   \n",
       "ANYTIME AT ALL                            0.154303              0.094491   \n",
       "Across The Universe                       0.091287              0.000000   \n",
       "\n",
       "song_played                          And Your Bird Can Sing   BAD BOY  \\\n",
       "song_played                                                             \n",
       "A Day In The Life                                  0.152145  0.210819   \n",
       "A Hard Day's Night                                 0.000000  0.000000   \n",
       "A Saturday Club Xmas/Crimble Medley                0.000000  0.000000   \n",
       "ANYTIME AT ALL                                     0.109109  0.000000   \n",
       "Across The Universe                                0.000000  0.000000   \n",
       "\n",
       "song_played                          BALLAD OF JOHN AND YOKO  ...  \\\n",
       "song_played                                                   ...   \n",
       "A Day In The Life                                   0.172133  ...   \n",
       "A Hard Day's Night                                  0.091287  ...   \n",
       "A Saturday Club Xmas/Crimble Medley                 0.000000  ...   \n",
       "ANYTIME AT ALL                                      0.000000  ...   \n",
       "Across The Universe                                 0.000000  ...   \n",
       "\n",
       "song_played                          We Can Work It Out  When I'm 64  \\\n",
       "song_played                                                            \n",
       "A Day In The Life                              0.464938     0.030429   \n",
       "A Hard Day's Night                             0.259548     0.129099   \n",
       "A Saturday Club Xmas/Crimble Medley            0.109435     0.000000   \n",
       "ANYTIME AT ALL                                 0.116991     0.000000   \n",
       "Across The Universe                            0.138426     0.000000   \n",
       "\n",
       "song_played                          While My Guitar Gently Weeps  \\\n",
       "song_played                                                         \n",
       "A Day In The Life                                        0.508964   \n",
       "A Hard Day's Night                                       0.210099   \n",
       "A Saturday Club Xmas/Crimble Medley                      0.000000   \n",
       "ANYTIME AT ALL                                           0.138107   \n",
       "Across The Universe                                      0.116722   \n",
       "\n",
       "song_played                          Wild Honey Pie  \\\n",
       "song_played                                           \n",
       "A Day In The Life                          0.223607   \n",
       "A Hard Day's Night                         0.000000   \n",
       "A Saturday Club Xmas/Crimble Medley        0.166667   \n",
       "ANYTIME AT ALL                             0.089087   \n",
       "Across The Universe                        0.000000   \n",
       "\n",
       "song_played                          With a Little Help From My Friends  \\\n",
       "song_played                                                               \n",
       "A Day In The Life                                              0.359092   \n",
       "A Hard Day's Night                                             0.000000   \n",
       "A Saturday Club Xmas/Crimble Medley                            0.000000   \n",
       "ANYTIME AT ALL                                                 0.183942   \n",
       "Across The Universe                                            0.000000   \n",
       "\n",
       "song_played                          YOUR MOTHER SHOULD KNOW  \\\n",
       "song_played                                                    \n",
       "A Day In The Life                                   0.037268   \n",
       "A Hard Day's Night                                  0.000000   \n",
       "A Saturday Club Xmas/Crimble Medley                 0.000000   \n",
       "ANYTIME AT ALL                                      0.000000   \n",
       "Across The Universe                                 0.000000   \n",
       "\n",
       "song_played                          Yellow Submarine  Yesterday  \\\n",
       "song_played                                                        \n",
       "A Day In The Life                            0.318198   0.353220   \n",
       "A Hard Day's Night                           0.050000   0.195468   \n",
       "A Saturday Club Xmas/Crimble Medley          0.000000   0.000000   \n",
       "ANYTIME AT ALL                               0.000000   0.146845   \n",
       "Across The Universe                          0.000000   0.043437   \n",
       "\n",
       "song_played                          You Never Give Me Your Money  \\\n",
       "song_played                                                         \n",
       "A Day In The Life                                        0.087841   \n",
       "A Hard Day's Night                                       0.074536   \n",
       "A Saturday Club Xmas/Crimble Medley                      0.000000   \n",
       "ANYTIME AT ALL                                           0.000000   \n",
       "Across The Universe                                      0.000000   \n",
       "\n",
       "song_played                          You're Going To Lose That Girl  \n",
       "song_played                                                          \n",
       "A Day In The Life                                               0.0  \n",
       "A Hard Day's Night                                              0.0  \n",
       "A Saturday Club Xmas/Crimble Medley                             0.0  \n",
       "ANYTIME AT ALL                                                  0.0  \n",
       "Across The Universe                                             0.0  \n",
       "\n",
       "[5 rows x 100 columns]"
      ]
     },
     "execution_count": 58,
     "metadata": {},
     "output_type": "execute_result"
    }
   ],
   "source": [
    "similarity = np.dot(song_user_norm, song_user_norm.T)  # construct the similarity matrix\n",
    "similarity_df = pd.DataFrame(similarity, index=song_user_pivot.index, columns=song_user_pivot.index)\n",
    "similarity_df.head()"
   ]
  },
  {
   "cell_type": "markdown",
   "metadata": {
    "colab_type": "text",
    "id": "CeIWFgUH3Hx7"
   },
   "source": [
    "There are also other similarity measures (adjusted cosine similarity, pearson correlation coefficient, and jaccard similarity). "
   ]
  },
  {
   "cell_type": "markdown",
   "metadata": {
    "colab_type": "text",
    "id": "VEWBFqsB3TGP"
   },
   "source": [
    "#### Make Recommendations"
   ]
  },
  {
   "cell_type": "markdown",
   "metadata": {
    "colab_type": "text",
    "id": "YY3IyvBI0GAr"
   },
   "source": [
    "We want to use the similarity matrix to find the song that is most likely to be played next, given an input song. For this, we can find the the input song's nearest neighbor and return that as the song with the highest probability of being played right after. "
   ]
  },
  {
   "cell_type": "code",
   "execution_count": 59,
   "metadata": {
    "colab": {},
    "colab_type": "code",
    "id": "5VgfCp7XsK36"
   },
   "outputs": [],
   "source": [
    "def get_top_n_songs(similarity_matrix, input_song, n=1):\n",
    "  \"\"\"\n",
    "  Function to return the top n neighbors to an input song based on the cosine similarity measure. \n",
    "  @param similarity_matrix the similarity matrix of songs (cosine similarity)\n",
    "  @param input_song the song of interest, currently being played\n",
    "  @param n the number of top-n similar songs to return\n",
    "  \"\"\"\n",
    "  assert (n < len(similarity_matrix.columns)), 'n must be smaller than %s' % len(similarity_matrix.columns)\n",
    "  \n",
    "  df = similarity_matrix.loc[input_song].sort_values(ascending=False)[1:n+1].reset_index()\n",
    "  df = df.rename(columns={'song_played':'Song', input_song:'Similarity'})\n",
    "  return df"
   ]
  },
  {
   "cell_type": "markdown",
   "metadata": {
    "colab_type": "text",
    "id": "ho3Rt0PW2Jnr"
   },
   "source": [
    "Let's test our function by finding the top 3 nearest neighbors to \"A Day In The Life'."
   ]
  },
  {
   "cell_type": "code",
   "execution_count": 60,
   "metadata": {
    "colab": {
     "base_uri": "https://localhost:8080/",
     "height": 142
    },
    "colab_type": "code",
    "executionInfo": {
     "elapsed": 481,
     "status": "ok",
     "timestamp": 1555888362653,
     "user": {
      "displayName": "Alex Lim",
      "photoUrl": "https://lh5.googleusercontent.com/-1gZhw-_QR0c/AAAAAAAAAAI/AAAAAAAAAZQ/HMrUSEjOkJc/s64/photo.jpg",
      "userId": "12332462604429038341"
     },
     "user_tz": 420
    },
    "id": "fTt4c922sK0P",
    "outputId": "bbe6921a-6d86-4ce6-b21a-66dc936e64a8"
   },
   "outputs": [
    {
     "data": {
      "text/html": [
       "<div>\n",
       "<style scoped>\n",
       "    .dataframe tbody tr th:only-of-type {\n",
       "        vertical-align: middle;\n",
       "    }\n",
       "\n",
       "    .dataframe tbody tr th {\n",
       "        vertical-align: top;\n",
       "    }\n",
       "\n",
       "    .dataframe thead th {\n",
       "        text-align: right;\n",
       "    }\n",
       "</style>\n",
       "<table border=\"1\" class=\"dataframe\">\n",
       "  <thead>\n",
       "    <tr style=\"text-align: right;\">\n",
       "      <th></th>\n",
       "      <th>Song</th>\n",
       "      <th>Similarity</th>\n",
       "    </tr>\n",
       "  </thead>\n",
       "  <tbody>\n",
       "    <tr>\n",
       "      <th>0</th>\n",
       "      <td>Come Together</td>\n",
       "      <td>0.577357</td>\n",
       "    </tr>\n",
       "    <tr>\n",
       "      <th>1</th>\n",
       "      <td>Revolution</td>\n",
       "      <td>0.575179</td>\n",
       "    </tr>\n",
       "    <tr>\n",
       "      <th>2</th>\n",
       "      <td>Get Back</td>\n",
       "      <td>0.532342</td>\n",
       "    </tr>\n",
       "  </tbody>\n",
       "</table>\n",
       "</div>"
      ],
      "text/plain": [
       "            Song  Similarity\n",
       "0  Come Together    0.577357\n",
       "1     Revolution    0.575179\n",
       "2       Get Back    0.532342"
      ]
     },
     "execution_count": 60,
     "metadata": {},
     "output_type": "execute_result"
    }
   ],
   "source": [
    "get_top_n_songs(similarity_df, 'A Day In The Life', n=3)"
   ]
  },
  {
   "cell_type": "markdown",
   "metadata": {
    "colab_type": "text",
    "id": "ckZTN2gP3_ad"
   },
   "source": [
    "### User-Based Collaborative Filtering"
   ]
  },
  {
   "cell_type": "markdown",
   "metadata": {
    "colab_type": "text",
    "id": "yWJSfCAj4BRW"
   },
   "source": [
    "Another method of collaborative filtering is **user-based collaborative filtering**. User-based collaborative filtering uses the \"wisdom of the crowd\" to make recommendations based on what other, similar users have.\n",
    "\n",
    "In this case, we are just going to assume that the number of plays indicates a level of \"likeness\" a user has for a given song. This, of course, is not necessary the case but will be our assumptiong for analysis. Essentially, user-based collaborative filtering will recommend songs that a user has not yet listened to, but other similar users have and \"liked\" the song."
   ]
  },
  {
   "cell_type": "code",
   "execution_count": 61,
   "metadata": {
    "colab": {
     "base_uri": "https://localhost:8080/",
     "height": 264
    },
    "colab_type": "code",
    "executionInfo": {
     "elapsed": 949,
     "status": "ok",
     "timestamp": 1555888363553,
     "user": {
      "displayName": "Alex Lim",
      "photoUrl": "https://lh5.googleusercontent.com/-1gZhw-_QR0c/AAAAAAAAAAI/AAAAAAAAAZQ/HMrUSEjOkJc/s64/photo.jpg",
      "userId": "12332462604429038341"
     },
     "user_tz": 420
    },
    "id": "j_JABLhWq57z",
    "outputId": "344b0806-ba19-4f8a-8432-90a87af73dad"
   },
   "outputs": [
    {
     "data": {
      "text/html": [
       "<div>\n",
       "<style scoped>\n",
       "    .dataframe tbody tr th:only-of-type {\n",
       "        vertical-align: middle;\n",
       "    }\n",
       "\n",
       "    .dataframe tbody tr th {\n",
       "        vertical-align: top;\n",
       "    }\n",
       "\n",
       "    .dataframe thead th {\n",
       "        text-align: right;\n",
       "    }\n",
       "</style>\n",
       "<table border=\"1\" class=\"dataframe\">\n",
       "  <thead>\n",
       "    <tr style=\"text-align: right;\">\n",
       "      <th>user_id</th>\n",
       "      <th>1</th>\n",
       "      <th>2</th>\n",
       "      <th>3</th>\n",
       "      <th>4</th>\n",
       "      <th>5</th>\n",
       "      <th>6</th>\n",
       "      <th>7</th>\n",
       "      <th>8</th>\n",
       "      <th>9</th>\n",
       "      <th>10</th>\n",
       "      <th>...</th>\n",
       "      <th>191</th>\n",
       "      <th>192</th>\n",
       "      <th>193</th>\n",
       "      <th>194</th>\n",
       "      <th>195</th>\n",
       "      <th>196</th>\n",
       "      <th>197</th>\n",
       "      <th>198</th>\n",
       "      <th>199</th>\n",
       "      <th>200</th>\n",
       "    </tr>\n",
       "    <tr>\n",
       "      <th>song_played</th>\n",
       "      <th></th>\n",
       "      <th></th>\n",
       "      <th></th>\n",
       "      <th></th>\n",
       "      <th></th>\n",
       "      <th></th>\n",
       "      <th></th>\n",
       "      <th></th>\n",
       "      <th></th>\n",
       "      <th></th>\n",
       "      <th></th>\n",
       "      <th></th>\n",
       "      <th></th>\n",
       "      <th></th>\n",
       "      <th></th>\n",
       "      <th></th>\n",
       "      <th></th>\n",
       "      <th></th>\n",
       "      <th></th>\n",
       "      <th></th>\n",
       "      <th></th>\n",
       "    </tr>\n",
       "  </thead>\n",
       "  <tbody>\n",
       "    <tr>\n",
       "      <th>A Day In The Life</th>\n",
       "      <td>0</td>\n",
       "      <td>0</td>\n",
       "      <td>1</td>\n",
       "      <td>3</td>\n",
       "      <td>0</td>\n",
       "      <td>2</td>\n",
       "      <td>0</td>\n",
       "      <td>0</td>\n",
       "      <td>0</td>\n",
       "      <td>0</td>\n",
       "      <td>...</td>\n",
       "      <td>0</td>\n",
       "      <td>0</td>\n",
       "      <td>3</td>\n",
       "      <td>3</td>\n",
       "      <td>0</td>\n",
       "      <td>2</td>\n",
       "      <td>0</td>\n",
       "      <td>0</td>\n",
       "      <td>2</td>\n",
       "      <td>0</td>\n",
       "    </tr>\n",
       "    <tr>\n",
       "      <th>A Hard Day's Night</th>\n",
       "      <td>0</td>\n",
       "      <td>0</td>\n",
       "      <td>0</td>\n",
       "      <td>0</td>\n",
       "      <td>0</td>\n",
       "      <td>1</td>\n",
       "      <td>0</td>\n",
       "      <td>0</td>\n",
       "      <td>1</td>\n",
       "      <td>0</td>\n",
       "      <td>...</td>\n",
       "      <td>0</td>\n",
       "      <td>0</td>\n",
       "      <td>0</td>\n",
       "      <td>0</td>\n",
       "      <td>1</td>\n",
       "      <td>0</td>\n",
       "      <td>0</td>\n",
       "      <td>0</td>\n",
       "      <td>0</td>\n",
       "      <td>0</td>\n",
       "    </tr>\n",
       "    <tr>\n",
       "      <th>A Saturday Club Xmas/Crimble Medley</th>\n",
       "      <td>0</td>\n",
       "      <td>0</td>\n",
       "      <td>0</td>\n",
       "      <td>0</td>\n",
       "      <td>0</td>\n",
       "      <td>0</td>\n",
       "      <td>0</td>\n",
       "      <td>0</td>\n",
       "      <td>0</td>\n",
       "      <td>0</td>\n",
       "      <td>...</td>\n",
       "      <td>0</td>\n",
       "      <td>0</td>\n",
       "      <td>0</td>\n",
       "      <td>0</td>\n",
       "      <td>0</td>\n",
       "      <td>0</td>\n",
       "      <td>0</td>\n",
       "      <td>0</td>\n",
       "      <td>0</td>\n",
       "      <td>0</td>\n",
       "    </tr>\n",
       "    <tr>\n",
       "      <th>ANYTIME AT ALL</th>\n",
       "      <td>0</td>\n",
       "      <td>0</td>\n",
       "      <td>0</td>\n",
       "      <td>0</td>\n",
       "      <td>0</td>\n",
       "      <td>0</td>\n",
       "      <td>0</td>\n",
       "      <td>0</td>\n",
       "      <td>0</td>\n",
       "      <td>0</td>\n",
       "      <td>...</td>\n",
       "      <td>0</td>\n",
       "      <td>0</td>\n",
       "      <td>0</td>\n",
       "      <td>0</td>\n",
       "      <td>0</td>\n",
       "      <td>0</td>\n",
       "      <td>0</td>\n",
       "      <td>0</td>\n",
       "      <td>0</td>\n",
       "      <td>0</td>\n",
       "    </tr>\n",
       "    <tr>\n",
       "      <th>Across The Universe</th>\n",
       "      <td>0</td>\n",
       "      <td>0</td>\n",
       "      <td>0</td>\n",
       "      <td>1</td>\n",
       "      <td>0</td>\n",
       "      <td>0</td>\n",
       "      <td>0</td>\n",
       "      <td>0</td>\n",
       "      <td>0</td>\n",
       "      <td>0</td>\n",
       "      <td>...</td>\n",
       "      <td>0</td>\n",
       "      <td>0</td>\n",
       "      <td>0</td>\n",
       "      <td>0</td>\n",
       "      <td>0</td>\n",
       "      <td>0</td>\n",
       "      <td>0</td>\n",
       "      <td>0</td>\n",
       "      <td>0</td>\n",
       "      <td>0</td>\n",
       "    </tr>\n",
       "  </tbody>\n",
       "</table>\n",
       "<p>5 rows × 196 columns</p>\n",
       "</div>"
      ],
      "text/plain": [
       "user_id                              1    2    3    4    5    6    7    8    \\\n",
       "song_played                                                                   \n",
       "A Day In The Life                      0    0    1    3    0    2    0    0   \n",
       "A Hard Day's Night                     0    0    0    0    0    1    0    0   \n",
       "A Saturday Club Xmas/Crimble Medley    0    0    0    0    0    0    0    0   \n",
       "ANYTIME AT ALL                         0    0    0    0    0    0    0    0   \n",
       "Across The Universe                    0    0    0    1    0    0    0    0   \n",
       "\n",
       "user_id                              9    10   ...  191  192  193  194  195  \\\n",
       "song_played                                    ...                            \n",
       "A Day In The Life                      0    0  ...    0    0    3    3    0   \n",
       "A Hard Day's Night                     1    0  ...    0    0    0    0    1   \n",
       "A Saturday Club Xmas/Crimble Medley    0    0  ...    0    0    0    0    0   \n",
       "ANYTIME AT ALL                         0    0  ...    0    0    0    0    0   \n",
       "Across The Universe                    0    0  ...    0    0    0    0    0   \n",
       "\n",
       "user_id                              196  197  198  199  200  \n",
       "song_played                                                   \n",
       "A Day In The Life                      2    0    0    2    0  \n",
       "A Hard Day's Night                     0    0    0    0    0  \n",
       "A Saturday Club Xmas/Crimble Medley    0    0    0    0    0  \n",
       "ANYTIME AT ALL                         0    0    0    0    0  \n",
       "Across The Universe                    0    0    0    0    0  \n",
       "\n",
       "[5 rows x 196 columns]"
      ]
     },
     "execution_count": 61,
     "metadata": {},
     "output_type": "execute_result"
    }
   ],
   "source": [
    "song_user_pivot.head()"
   ]
  },
  {
   "cell_type": "markdown",
   "metadata": {
    "colab_type": "text",
    "id": "B_LsFmPE_OJb"
   },
   "source": [
    "#### Pearson Correlation Matrix"
   ]
  },
  {
   "cell_type": "markdown",
   "metadata": {
    "colab_type": "text",
    "id": "Y8GWnX5i6Bvg"
   },
   "source": [
    "A popular similarity measure in user-based collaborative filtering is the Pearson correlation. Typically this style of recommendations is better suited to movie ratings, but I am going to assume the count of plays for a song represents \"likeness\" of a song and will approach this problem this way, for sake of simplicity and understanding of basic collaborative filtering methodologies. \n",
    "\n",
    "$$ sim(a, b) = \\frac{\\sum_{p\\in P}(r_{a,p}-\\bar{r}_{a})(r_{b,p}-\\bar{r}_{b})}{\\sqrt{\\sum_{p\\in P}(r_{a,p}-\\bar{r}_{a})}^2 \\sqrt{\\sum_{p\\in P}(r_{b,p}-\\bar{r}_{b})}^2} $$\n",
    "\n",
    "where\n",
    "\n",
    "$P$ - set of all songs played by both user a and user b  \n",
    "$r_{a,p}$ - number of times user a listened to song p  \n",
    "$\\bar{r}_{a}$ - average number of song plays of user a  \n",
    "$r_{b,p}$ - number of times user b listened to song p  \n",
    "$\\bar{r}_{b}$ - average number of song plays of user b\n",
    "\n",
    "We can then use this similarity measure to make predictions:\n",
    "\n",
    "$$pred(a,p) = \\bar{r}_{a} + \\frac{\\sum_{b \\in N}sim(a,b)*(r_{b,p}-\\bar r_{b})}{\\sum_{b \\in N} sim(a,b)}$$\n",
    "\n",
    "Essentially what is happening here is that we first calculate the similarity between users. This prediction function takes in account the average song plays for a given user, and uses the similarity between other users as a weight for how much a user's preference for songs will affect our prediction. Essentially the right term is a \"bias\" term that we use to adjust the average \"likeness\" of songs that a target user we are trying to recommend a song for typically has."
   ]
  },
  {
   "cell_type": "code",
   "execution_count": 62,
   "metadata": {
    "colab": {},
    "colab_type": "code",
    "id": "BKoGVX0C-b9s"
   },
   "outputs": [],
   "source": [
    "# Assign 0 play values NaN so not considered in calculation of correlation \n",
    "song_user_pivot[song_user_pivot == 0] = math.nan"
   ]
  },
  {
   "cell_type": "code",
   "execution_count": 63,
   "metadata": {
    "colab": {
     "base_uri": "https://localhost:8080/",
     "height": 264
    },
    "colab_type": "code",
    "executionInfo": {
     "elapsed": 523,
     "status": "ok",
     "timestamp": 1555888363714,
     "user": {
      "displayName": "Alex Lim",
      "photoUrl": "https://lh5.googleusercontent.com/-1gZhw-_QR0c/AAAAAAAAAAI/AAAAAAAAAZQ/HMrUSEjOkJc/s64/photo.jpg",
      "userId": "12332462604429038341"
     },
     "user_tz": 420
    },
    "id": "spD9dX9c5SyJ",
    "outputId": "006d9312-0d6e-4dfd-b083-75cb36a7040c"
   },
   "outputs": [
    {
     "data": {
      "text/html": [
       "<div>\n",
       "<style scoped>\n",
       "    .dataframe tbody tr th:only-of-type {\n",
       "        vertical-align: middle;\n",
       "    }\n",
       "\n",
       "    .dataframe tbody tr th {\n",
       "        vertical-align: top;\n",
       "    }\n",
       "\n",
       "    .dataframe thead th {\n",
       "        text-align: right;\n",
       "    }\n",
       "</style>\n",
       "<table border=\"1\" class=\"dataframe\">\n",
       "  <thead>\n",
       "    <tr style=\"text-align: right;\">\n",
       "      <th>user_id</th>\n",
       "      <th>1</th>\n",
       "      <th>2</th>\n",
       "      <th>3</th>\n",
       "      <th>4</th>\n",
       "      <th>5</th>\n",
       "      <th>6</th>\n",
       "      <th>7</th>\n",
       "      <th>8</th>\n",
       "      <th>9</th>\n",
       "      <th>10</th>\n",
       "      <th>...</th>\n",
       "      <th>191</th>\n",
       "      <th>192</th>\n",
       "      <th>193</th>\n",
       "      <th>194</th>\n",
       "      <th>195</th>\n",
       "      <th>196</th>\n",
       "      <th>197</th>\n",
       "      <th>198</th>\n",
       "      <th>199</th>\n",
       "      <th>200</th>\n",
       "    </tr>\n",
       "    <tr>\n",
       "      <th>user_id</th>\n",
       "      <th></th>\n",
       "      <th></th>\n",
       "      <th></th>\n",
       "      <th></th>\n",
       "      <th></th>\n",
       "      <th></th>\n",
       "      <th></th>\n",
       "      <th></th>\n",
       "      <th></th>\n",
       "      <th></th>\n",
       "      <th></th>\n",
       "      <th></th>\n",
       "      <th></th>\n",
       "      <th></th>\n",
       "      <th></th>\n",
       "      <th></th>\n",
       "      <th></th>\n",
       "      <th></th>\n",
       "      <th></th>\n",
       "      <th></th>\n",
       "      <th></th>\n",
       "    </tr>\n",
       "  </thead>\n",
       "  <tbody>\n",
       "    <tr>\n",
       "      <th>1</th>\n",
       "      <td>1.0</td>\n",
       "      <td>NaN</td>\n",
       "      <td>NaN</td>\n",
       "      <td>NaN</td>\n",
       "      <td>NaN</td>\n",
       "      <td>NaN</td>\n",
       "      <td>NaN</td>\n",
       "      <td>NaN</td>\n",
       "      <td>NaN</td>\n",
       "      <td>NaN</td>\n",
       "      <td>...</td>\n",
       "      <td>NaN</td>\n",
       "      <td>-0.333333</td>\n",
       "      <td>-0.069843</td>\n",
       "      <td>NaN</td>\n",
       "      <td>NaN</td>\n",
       "      <td>-0.333333</td>\n",
       "      <td>NaN</td>\n",
       "      <td>NaN</td>\n",
       "      <td>-0.333333</td>\n",
       "      <td>NaN</td>\n",
       "    </tr>\n",
       "    <tr>\n",
       "      <th>2</th>\n",
       "      <td>NaN</td>\n",
       "      <td>1.000000</td>\n",
       "      <td>-0.085749</td>\n",
       "      <td>0.816497</td>\n",
       "      <td>-0.500000</td>\n",
       "      <td>-0.055989</td>\n",
       "      <td>-0.5</td>\n",
       "      <td>NaN</td>\n",
       "      <td>NaN</td>\n",
       "      <td>-0.188982</td>\n",
       "      <td>...</td>\n",
       "      <td>0.943242</td>\n",
       "      <td>0.783850</td>\n",
       "      <td>0.342997</td>\n",
       "      <td>1.000000</td>\n",
       "      <td>0.813489</td>\n",
       "      <td>0.490098</td>\n",
       "      <td>NaN</td>\n",
       "      <td>0.980196</td>\n",
       "      <td>-0.471405</td>\n",
       "      <td>0.577350</td>\n",
       "    </tr>\n",
       "    <tr>\n",
       "      <th>3</th>\n",
       "      <td>NaN</td>\n",
       "      <td>-0.085749</td>\n",
       "      <td>1.000000</td>\n",
       "      <td>-0.062017</td>\n",
       "      <td>-0.353553</td>\n",
       "      <td>-0.420084</td>\n",
       "      <td>NaN</td>\n",
       "      <td>NaN</td>\n",
       "      <td>NaN</td>\n",
       "      <td>0.870388</td>\n",
       "      <td>...</td>\n",
       "      <td>0.103695</td>\n",
       "      <td>0.577350</td>\n",
       "      <td>0.234920</td>\n",
       "      <td>-0.106576</td>\n",
       "      <td>0.403473</td>\n",
       "      <td>-0.372104</td>\n",
       "      <td>NaN</td>\n",
       "      <td>0.853492</td>\n",
       "      <td>-0.292770</td>\n",
       "      <td>-0.612372</td>\n",
       "    </tr>\n",
       "    <tr>\n",
       "      <th>4</th>\n",
       "      <td>NaN</td>\n",
       "      <td>0.816497</td>\n",
       "      <td>-0.062017</td>\n",
       "      <td>1.000000</td>\n",
       "      <td>-0.375000</td>\n",
       "      <td>-0.750000</td>\n",
       "      <td>NaN</td>\n",
       "      <td>NaN</td>\n",
       "      <td>NaN</td>\n",
       "      <td>NaN</td>\n",
       "      <td>...</td>\n",
       "      <td>0.301511</td>\n",
       "      <td>NaN</td>\n",
       "      <td>0.341882</td>\n",
       "      <td>0.852803</td>\n",
       "      <td>0.583333</td>\n",
       "      <td>0.447214</td>\n",
       "      <td>NaN</td>\n",
       "      <td>0.121566</td>\n",
       "      <td>0.000000</td>\n",
       "      <td>-0.301511</td>\n",
       "    </tr>\n",
       "    <tr>\n",
       "      <th>5</th>\n",
       "      <td>NaN</td>\n",
       "      <td>-0.500000</td>\n",
       "      <td>-0.353553</td>\n",
       "      <td>-0.375000</td>\n",
       "      <td>1.000000</td>\n",
       "      <td>-0.271163</td>\n",
       "      <td>NaN</td>\n",
       "      <td>NaN</td>\n",
       "      <td>NaN</td>\n",
       "      <td>-0.500000</td>\n",
       "      <td>...</td>\n",
       "      <td>-0.632456</td>\n",
       "      <td>-0.577350</td>\n",
       "      <td>0.045787</td>\n",
       "      <td>0.240192</td>\n",
       "      <td>0.000000</td>\n",
       "      <td>-0.292770</td>\n",
       "      <td>NaN</td>\n",
       "      <td>-0.462910</td>\n",
       "      <td>-0.292770</td>\n",
       "      <td>0.242536</td>\n",
       "    </tr>\n",
       "  </tbody>\n",
       "</table>\n",
       "<p>5 rows × 196 columns</p>\n",
       "</div>"
      ],
      "text/plain": [
       "user_id  1         2         3         4         5         6    7    8    9    \\\n",
       "user_id                                                                         \n",
       "1        1.0       NaN       NaN       NaN       NaN       NaN  NaN  NaN  NaN   \n",
       "2        NaN  1.000000 -0.085749  0.816497 -0.500000 -0.055989 -0.5  NaN  NaN   \n",
       "3        NaN -0.085749  1.000000 -0.062017 -0.353553 -0.420084  NaN  NaN  NaN   \n",
       "4        NaN  0.816497 -0.062017  1.000000 -0.375000 -0.750000  NaN  NaN  NaN   \n",
       "5        NaN -0.500000 -0.353553 -0.375000  1.000000 -0.271163  NaN  NaN  NaN   \n",
       "\n",
       "user_id       10   ...       191       192       193       194       195  \\\n",
       "user_id            ...                                                     \n",
       "1             NaN  ...       NaN -0.333333 -0.069843       NaN       NaN   \n",
       "2       -0.188982  ...  0.943242  0.783850  0.342997  1.000000  0.813489   \n",
       "3        0.870388  ...  0.103695  0.577350  0.234920 -0.106576  0.403473   \n",
       "4             NaN  ...  0.301511       NaN  0.341882  0.852803  0.583333   \n",
       "5       -0.500000  ... -0.632456 -0.577350  0.045787  0.240192  0.000000   \n",
       "\n",
       "user_id       196  197       198       199       200  \n",
       "user_id                                               \n",
       "1       -0.333333  NaN       NaN -0.333333       NaN  \n",
       "2        0.490098  NaN  0.980196 -0.471405  0.577350  \n",
       "3       -0.372104  NaN  0.853492 -0.292770 -0.612372  \n",
       "4        0.447214  NaN  0.121566  0.000000 -0.301511  \n",
       "5       -0.292770  NaN -0.462910 -0.292770  0.242536  \n",
       "\n",
       "[5 rows x 196 columns]"
      ]
     },
     "execution_count": 63,
     "metadata": {},
     "output_type": "execute_result"
    }
   ],
   "source": [
    "# Compute pairwise correlation of columns\n",
    "correlation_matrix = song_user_pivot.corr(method='pearson')\n",
    "correlation_matrix.head()"
   ]
  },
  {
   "cell_type": "markdown",
   "metadata": {
    "colab_type": "text",
    "id": "qfLo6MiFCmUj"
   },
   "source": [
    "#### Make Recommendations"
   ]
  },
  {
   "cell_type": "code",
   "execution_count": 64,
   "metadata": {
    "colab": {},
    "colab_type": "code",
    "id": "oshprzXG_L-c"
   },
   "outputs": [],
   "source": [
    "def get_top_n(correlation_matrix, user_a, n=1):\n",
    "  \"\"\"\n",
    "  Helper function that returns the top n users similar to user a.\n",
    "  @param correlation_matrix the correlation matrix between users (Pearson)\n",
    "  @param user_a the user we are finding nearest neighbors for\n",
    "  \"\"\"\n",
    "  num_not_null = correlation_matrix.loc[user_a].shape[0] - correlation_matrix.loc[user_a].isna().sum()\n",
    "  assert (n < num_not_null), 'n must be smaller than %s' % num_not_null\n",
    "  \n",
    "  df = correlation_matrix.loc[user_a].sort_values(ascending=False)[1:n+1].reset_index()\n",
    "  df = df.rename(columns={user_a: 'similarity'})\n",
    "  return df\n",
    "  \n",
    "def get_average_plays(song_user_pivot, user):\n",
    "  \"\"\"\n",
    "  Helper function to get a user's average song play count.\n",
    "  @param song_user_pivot the user/song play count matrix\n",
    "  @user_a the user we are calculating the average song plays for\n",
    "  \"\"\"\n",
    "  return song_user_pivot.loc[:, user].mean(skipna=True)\n",
    "\n",
    "def get_played_users(song_user_pivot, song_p):\n",
    "  \"\"\"\n",
    "  Helper function that returns the list of users who have listened to song_p\n",
    "  @param song_user_pivot the user/song play count matrix\n",
    "  @song_p the song of interest\n",
    "  \"\"\"\n",
    "  played = song_user_pivot.loc[song_p].notna()\n",
    "  return [user for user in played.index if played[user] == True]\n",
    "    \n",
    "def predict(song_user_pivot, correlation_matrix, user_a, song_p, n=None):\n",
    "  \"\"\"\n",
    "  Function to predict the measure of \"likeness\" or number of plays a user_a would\n",
    "  listen to a unhead song that is being recommended.\n",
    "  @param song_user_pivot the user/song play count matrix\n",
    "  @param correlation_matrix the correlation matrix between users (Pearson)\n",
    "  @param user_a the user we are making recommendations for\n",
    "  @param song_p the song of interest \n",
    "  @param n the number of similar users to consider (n=None means consider all users)\n",
    "  \"\"\"\n",
    "  # If n is specified, get only the top n nearest neighbors to user a to consider\n",
    "  if n is not None:\n",
    "    users = get_top_n(correlation_matrix, user_a, n).loc[:, 'user_id'].values\n",
    "  # Else consider all users who have a correlation value that isn't NaN\n",
    "  else:\n",
    "    num_not_null = correlation_matrix.loc[user_a].shape[0] - correlation_matrix.loc[user_a].isna().sum()\n",
    "    users = get_top_n(correlation_matrix, user_a, num_not_null-1).loc[:, 'user_id'].values\n",
    "  \n",
    "  # Accumulation variables for calculating the bias\n",
    "  numer_accum = 0.0\n",
    "  denom_accum = 0.0\n",
    "  \n",
    "  # Get similar users who have listened to song_p\n",
    "  played_users = get_played_users(song_user_pivot, song_p)\n",
    "  played_similar_users = [user for user in played_users if user in users]\n",
    "\n",
    "  # Calculate the bias\n",
    "  for user_b in played_similar_users:\n",
    "    similarity = correlation_matrix.loc[user_a, user_b]\n",
    "    rbp = song_user_pivot.loc[song_p, user_b]\n",
    "    rb_avg = get_average_plays(song_user_pivot, user_b)\n",
    "    numer_accum += similarity * (rbp-rb_avg)\n",
    "    denom_accum += similarity\n",
    "  if denom_accum == 0.0:\n",
    "    bias = 0.0\n",
    "  else:\n",
    "    bias = numer_accum / denom_accum\n",
    "\n",
    "  ra_avg = get_average_plays(song_user_pivot, user_a)\n",
    "  pred = ra_avg + bias\n",
    "  return pred\n",
    "\n",
    "def recommend(song_user_pivot, user_a, n=None):\n",
    "  \"\"\"\n",
    "  Function to make song recommendations for user_a.\n",
    "  @param song_user_pivot the user/song play count matrix\n",
    "  @param user_a the user we are making recommendations for\n",
    "  @param n the number of similar users to consider (n=None means consider all users)\n",
    "  \"\"\"\n",
    "  # Assign 0 play values NaN so not considered in calculation of correlation \n",
    "  song_user_pivot[song_user_pivot == 0] = math.nan\n",
    "\n",
    "  # Compute pairwise correlation of columns\n",
    "  correlation_matrix = song_user_pivot.corr(method='pearson')\n",
    "  \n",
    "  user_series = song_user_pivot.loc[:, user_a]\n",
    "  user_unheard = user_series[user_series.isna()]\n",
    "\n",
    "  # Calculate the predictions for each unheard song\n",
    "  for song in user_unheard.index:\n",
    "    user_unheard[song] = predict(song_user_pivot, correlation_matrix, user_a, song, n)\n",
    "    \n",
    "  recommendations = pd.DataFrame(user_unheard).rename(columns={user_a: 'predictions'})\n",
    "  return recommendations.sort_values(by='predictions', ascending=False)"
   ]
  },
  {
   "cell_type": "code",
   "execution_count": 65,
   "metadata": {
    "colab": {
     "base_uri": "https://localhost:8080/",
     "height": 390
    },
    "colab_type": "code",
    "executionInfo": {
     "elapsed": 1023,
     "status": "ok",
     "timestamp": 1555888389052,
     "user": {
      "displayName": "Alex Lim",
      "photoUrl": "https://lh5.googleusercontent.com/-1gZhw-_QR0c/AAAAAAAAAAI/AAAAAAAAAZQ/HMrUSEjOkJc/s64/photo.jpg",
      "userId": "12332462604429038341"
     },
     "user_tz": 420
    },
    "id": "I5TgxeO5LFfG",
    "outputId": "c36e1abd-0649-4eae-eff6-b063f09bb001"
   },
   "outputs": [
    {
     "data": {
      "text/html": [
       "<div>\n",
       "<style scoped>\n",
       "    .dataframe tbody tr th:only-of-type {\n",
       "        vertical-align: middle;\n",
       "    }\n",
       "\n",
       "    .dataframe tbody tr th {\n",
       "        vertical-align: top;\n",
       "    }\n",
       "\n",
       "    .dataframe thead th {\n",
       "        text-align: right;\n",
       "    }\n",
       "</style>\n",
       "<table border=\"1\" class=\"dataframe\">\n",
       "  <thead>\n",
       "    <tr style=\"text-align: right;\">\n",
       "      <th></th>\n",
       "      <th>predictions</th>\n",
       "    </tr>\n",
       "    <tr>\n",
       "      <th>song_played</th>\n",
       "      <th></th>\n",
       "    </tr>\n",
       "  </thead>\n",
       "  <tbody>\n",
       "    <tr>\n",
       "      <th>Back In the U.S.S.R.</th>\n",
       "      <td>1.453084</td>\n",
       "    </tr>\n",
       "    <tr>\n",
       "      <th>Let It Be</th>\n",
       "      <td>1.406160</td>\n",
       "    </tr>\n",
       "    <tr>\n",
       "      <th>Hello Goodbye</th>\n",
       "      <td>1.285505</td>\n",
       "    </tr>\n",
       "    <tr>\n",
       "      <th>Something</th>\n",
       "      <td>1.262192</td>\n",
       "    </tr>\n",
       "    <tr>\n",
       "      <th>IT WON'T BE LONG</th>\n",
       "      <td>1.135483</td>\n",
       "    </tr>\n",
       "    <tr>\n",
       "      <th>Hey Jude</th>\n",
       "      <td>1.135294</td>\n",
       "    </tr>\n",
       "    <tr>\n",
       "      <th>We Can Work It Out</th>\n",
       "      <td>1.132171</td>\n",
       "    </tr>\n",
       "    <tr>\n",
       "      <th>Lucy In The Sky With Diamonds</th>\n",
       "      <td>1.131637</td>\n",
       "    </tr>\n",
       "    <tr>\n",
       "      <th>Can't Buy Me Love</th>\n",
       "      <td>1.122198</td>\n",
       "    </tr>\n",
       "    <tr>\n",
       "      <th>Sgt. Pepper's Lonely Hearts Club Band (Reprise)</th>\n",
       "      <td>1.119140</td>\n",
       "    </tr>\n",
       "  </tbody>\n",
       "</table>\n",
       "</div>"
      ],
      "text/plain": [
       "                                                 predictions\n",
       "song_played                                                 \n",
       "Back In the U.S.S.R.                                1.453084\n",
       "Let It Be                                           1.406160\n",
       "Hello Goodbye                                       1.285505\n",
       "Something                                           1.262192\n",
       "IT WON'T BE LONG                                    1.135483\n",
       "Hey Jude                                            1.135294\n",
       "We Can Work It Out                                  1.132171\n",
       "Lucy In The Sky With Diamonds                       1.131637\n",
       "Can't Buy Me Love                                   1.122198\n",
       "Sgt. Pepper's Lonely Hearts Club Band (Reprise)     1.119140"
      ]
     },
     "execution_count": 65,
     "metadata": {},
     "output_type": "execute_result"
    }
   ],
   "source": [
    "recommend(song_user_pivot, 100).head(10)"
   ]
  },
  {
   "cell_type": "markdown",
   "metadata": {},
   "source": [
    "### Alternative Least Squares (ALS) Method"
   ]
  },
  {
   "cell_type": "markdown",
   "metadata": {},
   "source": [
    "ALS is a matrix factorization method for recommendation systems. \n",
    "\n",
    "Decomposition of the matrix\n",
    "- R = [m users, n songs]\n",
    "- Row in P = user's affinity to the features (m users, f latent factors/features)\n",
    "- Row in Q = items' relation to the features (n items, f latent factors/features)\n",
    "- P indicated how much user likes f latent factors\n",
    "- Q indicates how much one item obtains f latent factors\n",
    "- The dot product indicates how much a user likes a song\n",
    "- The decomposition automatically ranks features by their impact on the ratings\n",
    "\n",
    "The objective of the ALS is to factor/decompose the matrix R into two lower-ranked matrices P and Q. Typically matrix decomposition can be approached using SVD, however, it does not work well with sparse matrices. Therefore, ALS is a more appropriate approach."
   ]
  },
  {
   "cell_type": "code",
   "execution_count": 113,
   "metadata": {
    "colab": {},
    "colab_type": "code",
    "id": "eAkxwmIXLKDn"
   },
   "outputs": [],
   "source": [
    "R_df = song_user_pivot\n",
    "R_df[R_df.isna()] = 0.0"
   ]
  },
  {
   "cell_type": "code",
   "execution_count": 114,
   "metadata": {
    "scrolled": true
   },
   "outputs": [
    {
     "data": {
      "text/html": [
       "<div>\n",
       "<style scoped>\n",
       "    .dataframe tbody tr th:only-of-type {\n",
       "        vertical-align: middle;\n",
       "    }\n",
       "\n",
       "    .dataframe tbody tr th {\n",
       "        vertical-align: top;\n",
       "    }\n",
       "\n",
       "    .dataframe thead th {\n",
       "        text-align: right;\n",
       "    }\n",
       "</style>\n",
       "<table border=\"1\" class=\"dataframe\">\n",
       "  <thead>\n",
       "    <tr style=\"text-align: right;\">\n",
       "      <th>song_played</th>\n",
       "      <th>A Day In The Life</th>\n",
       "      <th>A Hard Day's Night</th>\n",
       "      <th>A Saturday Club Xmas/Crimble Medley</th>\n",
       "      <th>ANYTIME AT ALL</th>\n",
       "      <th>Across The Universe</th>\n",
       "      <th>All My Loving</th>\n",
       "      <th>All You Need Is Love</th>\n",
       "      <th>And Your Bird Can Sing</th>\n",
       "      <th>BAD BOY</th>\n",
       "      <th>BALLAD OF JOHN AND YOKO</th>\n",
       "      <th>...</th>\n",
       "      <th>We Can Work It Out</th>\n",
       "      <th>When I'm 64</th>\n",
       "      <th>While My Guitar Gently Weeps</th>\n",
       "      <th>Wild Honey Pie</th>\n",
       "      <th>With a Little Help From My Friends</th>\n",
       "      <th>YOUR MOTHER SHOULD KNOW</th>\n",
       "      <th>Yellow Submarine</th>\n",
       "      <th>Yesterday</th>\n",
       "      <th>You Never Give Me Your Money</th>\n",
       "      <th>You're Going To Lose That Girl</th>\n",
       "    </tr>\n",
       "    <tr>\n",
       "      <th>user_id</th>\n",
       "      <th></th>\n",
       "      <th></th>\n",
       "      <th></th>\n",
       "      <th></th>\n",
       "      <th></th>\n",
       "      <th></th>\n",
       "      <th></th>\n",
       "      <th></th>\n",
       "      <th></th>\n",
       "      <th></th>\n",
       "      <th></th>\n",
       "      <th></th>\n",
       "      <th></th>\n",
       "      <th></th>\n",
       "      <th></th>\n",
       "      <th></th>\n",
       "      <th></th>\n",
       "      <th></th>\n",
       "      <th></th>\n",
       "      <th></th>\n",
       "      <th></th>\n",
       "    </tr>\n",
       "  </thead>\n",
       "  <tbody>\n",
       "    <tr>\n",
       "      <th>1</th>\n",
       "      <td>0.0</td>\n",
       "      <td>0.0</td>\n",
       "      <td>0.0</td>\n",
       "      <td>0.0</td>\n",
       "      <td>0.0</td>\n",
       "      <td>0.0</td>\n",
       "      <td>0.0</td>\n",
       "      <td>0.0</td>\n",
       "      <td>0.0</td>\n",
       "      <td>0.0</td>\n",
       "      <td>...</td>\n",
       "      <td>0.0</td>\n",
       "      <td>0.0</td>\n",
       "      <td>1.0</td>\n",
       "      <td>0.0</td>\n",
       "      <td>0.0</td>\n",
       "      <td>0.0</td>\n",
       "      <td>0.0</td>\n",
       "      <td>1.0</td>\n",
       "      <td>0.0</td>\n",
       "      <td>0.0</td>\n",
       "    </tr>\n",
       "    <tr>\n",
       "      <th>2</th>\n",
       "      <td>0.0</td>\n",
       "      <td>0.0</td>\n",
       "      <td>0.0</td>\n",
       "      <td>0.0</td>\n",
       "      <td>0.0</td>\n",
       "      <td>0.0</td>\n",
       "      <td>0.0</td>\n",
       "      <td>0.0</td>\n",
       "      <td>0.0</td>\n",
       "      <td>0.0</td>\n",
       "      <td>...</td>\n",
       "      <td>0.0</td>\n",
       "      <td>0.0</td>\n",
       "      <td>1.0</td>\n",
       "      <td>0.0</td>\n",
       "      <td>0.0</td>\n",
       "      <td>0.0</td>\n",
       "      <td>0.0</td>\n",
       "      <td>1.0</td>\n",
       "      <td>1.0</td>\n",
       "      <td>0.0</td>\n",
       "    </tr>\n",
       "    <tr>\n",
       "      <th>3</th>\n",
       "      <td>1.0</td>\n",
       "      <td>0.0</td>\n",
       "      <td>0.0</td>\n",
       "      <td>0.0</td>\n",
       "      <td>0.0</td>\n",
       "      <td>0.0</td>\n",
       "      <td>0.0</td>\n",
       "      <td>0.0</td>\n",
       "      <td>0.0</td>\n",
       "      <td>0.0</td>\n",
       "      <td>...</td>\n",
       "      <td>1.0</td>\n",
       "      <td>0.0</td>\n",
       "      <td>0.0</td>\n",
       "      <td>0.0</td>\n",
       "      <td>0.0</td>\n",
       "      <td>0.0</td>\n",
       "      <td>0.0</td>\n",
       "      <td>0.0</td>\n",
       "      <td>0.0</td>\n",
       "      <td>0.0</td>\n",
       "    </tr>\n",
       "    <tr>\n",
       "      <th>4</th>\n",
       "      <td>3.0</td>\n",
       "      <td>0.0</td>\n",
       "      <td>0.0</td>\n",
       "      <td>0.0</td>\n",
       "      <td>1.0</td>\n",
       "      <td>0.0</td>\n",
       "      <td>0.0</td>\n",
       "      <td>0.0</td>\n",
       "      <td>0.0</td>\n",
       "      <td>0.0</td>\n",
       "      <td>...</td>\n",
       "      <td>0.0</td>\n",
       "      <td>0.0</td>\n",
       "      <td>0.0</td>\n",
       "      <td>0.0</td>\n",
       "      <td>0.0</td>\n",
       "      <td>0.0</td>\n",
       "      <td>0.0</td>\n",
       "      <td>0.0</td>\n",
       "      <td>0.0</td>\n",
       "      <td>0.0</td>\n",
       "    </tr>\n",
       "    <tr>\n",
       "      <th>5</th>\n",
       "      <td>0.0</td>\n",
       "      <td>0.0</td>\n",
       "      <td>0.0</td>\n",
       "      <td>0.0</td>\n",
       "      <td>0.0</td>\n",
       "      <td>0.0</td>\n",
       "      <td>0.0</td>\n",
       "      <td>0.0</td>\n",
       "      <td>0.0</td>\n",
       "      <td>0.0</td>\n",
       "      <td>...</td>\n",
       "      <td>1.0</td>\n",
       "      <td>0.0</td>\n",
       "      <td>0.0</td>\n",
       "      <td>0.0</td>\n",
       "      <td>1.0</td>\n",
       "      <td>0.0</td>\n",
       "      <td>0.0</td>\n",
       "      <td>0.0</td>\n",
       "      <td>0.0</td>\n",
       "      <td>0.0</td>\n",
       "    </tr>\n",
       "  </tbody>\n",
       "</table>\n",
       "<p>5 rows × 100 columns</p>\n",
       "</div>"
      ],
      "text/plain": [
       "song_played  A Day In The Life  A Hard Day's Night  \\\n",
       "user_id                                              \n",
       "1                          0.0                 0.0   \n",
       "2                          0.0                 0.0   \n",
       "3                          1.0                 0.0   \n",
       "4                          3.0                 0.0   \n",
       "5                          0.0                 0.0   \n",
       "\n",
       "song_played  A Saturday Club Xmas/Crimble Medley  ANYTIME AT ALL  \\\n",
       "user_id                                                            \n",
       "1                                            0.0             0.0   \n",
       "2                                            0.0             0.0   \n",
       "3                                            0.0             0.0   \n",
       "4                                            0.0             0.0   \n",
       "5                                            0.0             0.0   \n",
       "\n",
       "song_played  Across The Universe  All My Loving  All You Need Is Love  \\\n",
       "user_id                                                                 \n",
       "1                            0.0            0.0                   0.0   \n",
       "2                            0.0            0.0                   0.0   \n",
       "3                            0.0            0.0                   0.0   \n",
       "4                            1.0            0.0                   0.0   \n",
       "5                            0.0            0.0                   0.0   \n",
       "\n",
       "song_played  And Your Bird Can Sing  BAD BOY  BALLAD OF JOHN AND YOKO  ...  \\\n",
       "user_id                                                                ...   \n",
       "1                               0.0      0.0                      0.0  ...   \n",
       "2                               0.0      0.0                      0.0  ...   \n",
       "3                               0.0      0.0                      0.0  ...   \n",
       "4                               0.0      0.0                      0.0  ...   \n",
       "5                               0.0      0.0                      0.0  ...   \n",
       "\n",
       "song_played  We Can Work It Out  When I'm 64  While My Guitar Gently Weeps  \\\n",
       "user_id                                                                      \n",
       "1                           0.0          0.0                           1.0   \n",
       "2                           0.0          0.0                           1.0   \n",
       "3                           1.0          0.0                           0.0   \n",
       "4                           0.0          0.0                           0.0   \n",
       "5                           1.0          0.0                           0.0   \n",
       "\n",
       "song_played  Wild Honey Pie  With a Little Help From My Friends  \\\n",
       "user_id                                                           \n",
       "1                       0.0                                 0.0   \n",
       "2                       0.0                                 0.0   \n",
       "3                       0.0                                 0.0   \n",
       "4                       0.0                                 0.0   \n",
       "5                       0.0                                 1.0   \n",
       "\n",
       "song_played  YOUR MOTHER SHOULD KNOW  Yellow Submarine  Yesterday  \\\n",
       "user_id                                                             \n",
       "1                                0.0               0.0        1.0   \n",
       "2                                0.0               0.0        1.0   \n",
       "3                                0.0               0.0        0.0   \n",
       "4                                0.0               0.0        0.0   \n",
       "5                                0.0               0.0        0.0   \n",
       "\n",
       "song_played  You Never Give Me Your Money  You're Going To Lose That Girl  \n",
       "user_id                                                                    \n",
       "1                                     0.0                             0.0  \n",
       "2                                     1.0                             0.0  \n",
       "3                                     0.0                             0.0  \n",
       "4                                     0.0                             0.0  \n",
       "5                                     0.0                             0.0  \n",
       "\n",
       "[5 rows x 100 columns]"
      ]
     },
     "execution_count": 114,
     "metadata": {},
     "output_type": "execute_result"
    }
   ],
   "source": [
    "R_df = R_df.T\n",
    "R_df.head()"
   ]
  },
  {
   "cell_type": "code",
   "execution_count": 119,
   "metadata": {},
   "outputs": [],
   "source": [
    "R = np.array(R_df)"
   ]
  },
  {
   "cell_type": "code",
   "execution_count": 107,
   "metadata": {},
   "outputs": [
    {
     "data": {
      "text/plain": [
       "(196, 100)"
      ]
     },
     "execution_count": 107,
     "metadata": {},
     "output_type": "execute_result"
    }
   ],
   "source": [
    "R.shape"
   ]
  },
  {
   "cell_type": "code",
   "execution_count": 135,
   "metadata": {},
   "outputs": [],
   "source": [
    "def als_matrix_factorization(R, K=2, steps=5000, alpha=0.0002, beta=0.02):\n",
    "    N = R.shape[0]\n",
    "    M = R.shape[1]\n",
    "    P = np.random.rand(N,K)\n",
    "    Q = np.random.rand(M,K)\n",
    "    Q = Q.T\n",
    "    \n",
    "    for step in range(steps):\n",
    "        for i in range(R.shape[0]):\n",
    "            for j in range(R.shape[1]):\n",
    "                if R[i][j] > 0.0:\n",
    "                    eij = R[i][j] - np.dot(P[i,:],Q[:,j])\n",
    "                    for k in range(K):\n",
    "                        # Update P and Q\n",
    "                        P[i][k] = P[i][k] + alpha*(2*eij*Q[k][j]-beta*P[i][k])\n",
    "                        Q[k][j] = Q[k][j] + alpha*(2*eij*P[i][k]-beta*Q[k][j])\n",
    "        eR = np.dot(P,Q)\n",
    "        e = 0\n",
    "        for i in range(R.shape[0]):\n",
    "            for j in range(R.shape[1]):\n",
    "                if R[i][j] > 0.0:\n",
    "                    e = e + pow(R[i][j] - np.dot(P[i,:],Q[:,j]), 2)\n",
    "                    for k in range(K):\n",
    "                        e = e + (beta/2) * (pow(P[i][k],2) + pow(Q[k][j],2))\n",
    "        if e < 0.001:\n",
    "            break\n",
    "    return P, Q.T"
   ]
  },
  {
   "cell_type": "code",
   "execution_count": 136,
   "metadata": {
    "scrolled": true
   },
   "outputs": [
    {
     "name": "stdout",
     "output_type": "stream",
     "text": [
      "Took 567.4815804958344 seconds\n"
     ]
    }
   ],
   "source": [
    "import time\n",
    "\n",
    "start = time.time()\n",
    "\n",
    "# Run ALS\n",
    "nP, nQ = als_matrix_factorization(R, K=2)\n",
    "\n",
    "end = time.time()\n",
    "\n",
    "print('Took {} seconds'.format(end-start))"
   ]
  },
  {
   "cell_type": "code",
   "execution_count": 137,
   "metadata": {},
   "outputs": [],
   "source": [
    "# Reconstruct matrix\n",
    "predictions = nP.dot(nQ.T)"
   ]
  },
  {
   "cell_type": "code",
   "execution_count": 138,
   "metadata": {},
   "outputs": [],
   "source": [
    "predictions = pd.DataFrame(predictions)\n",
    "predictions.index = R_df.index\n",
    "predictions.columns = R_df.columns"
   ]
  },
  {
   "cell_type": "code",
   "execution_count": 139,
   "metadata": {},
   "outputs": [
    {
     "data": {
      "text/html": [
       "<div>\n",
       "<style scoped>\n",
       "    .dataframe tbody tr th:only-of-type {\n",
       "        vertical-align: middle;\n",
       "    }\n",
       "\n",
       "    .dataframe tbody tr th {\n",
       "        vertical-align: top;\n",
       "    }\n",
       "\n",
       "    .dataframe thead th {\n",
       "        text-align: right;\n",
       "    }\n",
       "</style>\n",
       "<table border=\"1\" class=\"dataframe\">\n",
       "  <thead>\n",
       "    <tr style=\"text-align: right;\">\n",
       "      <th>song_played</th>\n",
       "      <th>A Day In The Life</th>\n",
       "      <th>A Hard Day's Night</th>\n",
       "      <th>A Saturday Club Xmas/Crimble Medley</th>\n",
       "      <th>ANYTIME AT ALL</th>\n",
       "      <th>Across The Universe</th>\n",
       "      <th>All My Loving</th>\n",
       "      <th>All You Need Is Love</th>\n",
       "      <th>And Your Bird Can Sing</th>\n",
       "      <th>BAD BOY</th>\n",
       "      <th>BALLAD OF JOHN AND YOKO</th>\n",
       "      <th>...</th>\n",
       "      <th>We Can Work It Out</th>\n",
       "      <th>When I'm 64</th>\n",
       "      <th>While My Guitar Gently Weeps</th>\n",
       "      <th>Wild Honey Pie</th>\n",
       "      <th>With a Little Help From My Friends</th>\n",
       "      <th>YOUR MOTHER SHOULD KNOW</th>\n",
       "      <th>Yellow Submarine</th>\n",
       "      <th>Yesterday</th>\n",
       "      <th>You Never Give Me Your Money</th>\n",
       "      <th>You're Going To Lose That Girl</th>\n",
       "    </tr>\n",
       "    <tr>\n",
       "      <th>user_id</th>\n",
       "      <th></th>\n",
       "      <th></th>\n",
       "      <th></th>\n",
       "      <th></th>\n",
       "      <th></th>\n",
       "      <th></th>\n",
       "      <th></th>\n",
       "      <th></th>\n",
       "      <th></th>\n",
       "      <th></th>\n",
       "      <th></th>\n",
       "      <th></th>\n",
       "      <th></th>\n",
       "      <th></th>\n",
       "      <th></th>\n",
       "      <th></th>\n",
       "      <th></th>\n",
       "      <th></th>\n",
       "      <th></th>\n",
       "      <th></th>\n",
       "      <th></th>\n",
       "    </tr>\n",
       "  </thead>\n",
       "  <tbody>\n",
       "    <tr>\n",
       "      <th>1</th>\n",
       "      <td>1.347796</td>\n",
       "      <td>0.715297</td>\n",
       "      <td>0.982614</td>\n",
       "      <td>0.872898</td>\n",
       "      <td>0.708753</td>\n",
       "      <td>0.827585</td>\n",
       "      <td>0.667332</td>\n",
       "      <td>0.943250</td>\n",
       "      <td>0.817325</td>\n",
       "      <td>0.969739</td>\n",
       "      <td>...</td>\n",
       "      <td>1.033544</td>\n",
       "      <td>0.830239</td>\n",
       "      <td>1.272675</td>\n",
       "      <td>0.855433</td>\n",
       "      <td>0.844089</td>\n",
       "      <td>1.071586</td>\n",
       "      <td>0.843517</td>\n",
       "      <td>1.078592</td>\n",
       "      <td>0.826839</td>\n",
       "      <td>1.143944</td>\n",
       "    </tr>\n",
       "    <tr>\n",
       "      <th>2</th>\n",
       "      <td>1.593459</td>\n",
       "      <td>0.910827</td>\n",
       "      <td>0.780711</td>\n",
       "      <td>1.050552</td>\n",
       "      <td>0.697403</td>\n",
       "      <td>0.776999</td>\n",
       "      <td>0.850941</td>\n",
       "      <td>0.753375</td>\n",
       "      <td>0.742711</td>\n",
       "      <td>0.578840</td>\n",
       "      <td>...</td>\n",
       "      <td>1.273300</td>\n",
       "      <td>0.643167</td>\n",
       "      <td>1.829368</td>\n",
       "      <td>1.076640</td>\n",
       "      <td>0.858430</td>\n",
       "      <td>0.210397</td>\n",
       "      <td>0.597038</td>\n",
       "      <td>0.940631</td>\n",
       "      <td>0.773343</td>\n",
       "      <td>1.101732</td>\n",
       "    </tr>\n",
       "    <tr>\n",
       "      <th>3</th>\n",
       "      <td>1.365270</td>\n",
       "      <td>0.692454</td>\n",
       "      <td>1.183164</td>\n",
       "      <td>0.875071</td>\n",
       "      <td>0.787217</td>\n",
       "      <td>0.937606</td>\n",
       "      <td>0.645435</td>\n",
       "      <td>1.133823</td>\n",
       "      <td>0.938135</td>\n",
       "      <td>1.262126</td>\n",
       "      <td>...</td>\n",
       "      <td>1.021620</td>\n",
       "      <td>1.007812</td>\n",
       "      <td>1.129108</td>\n",
       "      <td>0.834341</td>\n",
       "      <td>0.923801</td>\n",
       "      <td>1.606268</td>\n",
       "      <td>1.051739</td>\n",
       "      <td>1.257490</td>\n",
       "      <td>0.938219</td>\n",
       "      <td>1.282363</td>\n",
       "    </tr>\n",
       "    <tr>\n",
       "      <th>4</th>\n",
       "      <td>1.682053</td>\n",
       "      <td>0.910326</td>\n",
       "      <td>1.123185</td>\n",
       "      <td>1.094400</td>\n",
       "      <td>0.846490</td>\n",
       "      <td>0.978310</td>\n",
       "      <td>0.849606</td>\n",
       "      <td>1.079255</td>\n",
       "      <td>0.959509</td>\n",
       "      <td>1.056598</td>\n",
       "      <td>...</td>\n",
       "      <td>1.303770</td>\n",
       "      <td>0.944551</td>\n",
       "      <td>1.676190</td>\n",
       "      <td>1.085253</td>\n",
       "      <td>1.015666</td>\n",
       "      <td>1.051394</td>\n",
       "      <td>0.944388</td>\n",
       "      <td>1.255537</td>\n",
       "      <td>0.976629</td>\n",
       "      <td>1.359787</td>\n",
       "    </tr>\n",
       "    <tr>\n",
       "      <th>5</th>\n",
       "      <td>1.413328</td>\n",
       "      <td>0.777056</td>\n",
       "      <td>0.872612</td>\n",
       "      <td>0.923022</td>\n",
       "      <td>0.685017</td>\n",
       "      <td>0.784409</td>\n",
       "      <td>0.725443</td>\n",
       "      <td>0.839286</td>\n",
       "      <td>0.764474</td>\n",
       "      <td>0.781817</td>\n",
       "      <td>...</td>\n",
       "      <td>1.105070</td>\n",
       "      <td>0.730471</td>\n",
       "      <td>1.469027</td>\n",
       "      <td>0.924062</td>\n",
       "      <td>0.827357</td>\n",
       "      <td>0.686176</td>\n",
       "      <td>0.718792</td>\n",
       "      <td>0.992492</td>\n",
       "      <td>0.782478</td>\n",
       "      <td>1.095739</td>\n",
       "    </tr>\n",
       "  </tbody>\n",
       "</table>\n",
       "<p>5 rows × 100 columns</p>\n",
       "</div>"
      ],
      "text/plain": [
       "song_played  A Day In The Life  A Hard Day's Night  \\\n",
       "user_id                                              \n",
       "1                     1.347796            0.715297   \n",
       "2                     1.593459            0.910827   \n",
       "3                     1.365270            0.692454   \n",
       "4                     1.682053            0.910326   \n",
       "5                     1.413328            0.777056   \n",
       "\n",
       "song_played  A Saturday Club Xmas/Crimble Medley  ANYTIME AT ALL  \\\n",
       "user_id                                                            \n",
       "1                                       0.982614        0.872898   \n",
       "2                                       0.780711        1.050552   \n",
       "3                                       1.183164        0.875071   \n",
       "4                                       1.123185        1.094400   \n",
       "5                                       0.872612        0.923022   \n",
       "\n",
       "song_played  Across The Universe  All My Loving  All You Need Is Love  \\\n",
       "user_id                                                                 \n",
       "1                       0.708753       0.827585              0.667332   \n",
       "2                       0.697403       0.776999              0.850941   \n",
       "3                       0.787217       0.937606              0.645435   \n",
       "4                       0.846490       0.978310              0.849606   \n",
       "5                       0.685017       0.784409              0.725443   \n",
       "\n",
       "song_played  And Your Bird Can Sing   BAD BOY  BALLAD OF JOHN AND YOKO  ...  \\\n",
       "user_id                                                                 ...   \n",
       "1                          0.943250  0.817325                 0.969739  ...   \n",
       "2                          0.753375  0.742711                 0.578840  ...   \n",
       "3                          1.133823  0.938135                 1.262126  ...   \n",
       "4                          1.079255  0.959509                 1.056598  ...   \n",
       "5                          0.839286  0.764474                 0.781817  ...   \n",
       "\n",
       "song_played  We Can Work It Out  When I'm 64  While My Guitar Gently Weeps  \\\n",
       "user_id                                                                      \n",
       "1                      1.033544     0.830239                      1.272675   \n",
       "2                      1.273300     0.643167                      1.829368   \n",
       "3                      1.021620     1.007812                      1.129108   \n",
       "4                      1.303770     0.944551                      1.676190   \n",
       "5                      1.105070     0.730471                      1.469027   \n",
       "\n",
       "song_played  Wild Honey Pie  With a Little Help From My Friends  \\\n",
       "user_id                                                           \n",
       "1                  0.855433                            0.844089   \n",
       "2                  1.076640                            0.858430   \n",
       "3                  0.834341                            0.923801   \n",
       "4                  1.085253                            1.015666   \n",
       "5                  0.924062                            0.827357   \n",
       "\n",
       "song_played  YOUR MOTHER SHOULD KNOW  Yellow Submarine  Yesterday  \\\n",
       "user_id                                                             \n",
       "1                           1.071586          0.843517   1.078592   \n",
       "2                           0.210397          0.597038   0.940631   \n",
       "3                           1.606268          1.051739   1.257490   \n",
       "4                           1.051394          0.944388   1.255537   \n",
       "5                           0.686176          0.718792   0.992492   \n",
       "\n",
       "song_played  You Never Give Me Your Money  You're Going To Lose That Girl  \n",
       "user_id                                                                    \n",
       "1                                0.826839                        1.143944  \n",
       "2                                0.773343                        1.101732  \n",
       "3                                0.938219                        1.282363  \n",
       "4                                0.976629                        1.359787  \n",
       "5                                0.782478                        1.095739  \n",
       "\n",
       "[5 rows x 100 columns]"
      ]
     },
     "execution_count": 139,
     "metadata": {},
     "output_type": "execute_result"
    }
   ],
   "source": [
    "predictions.head()"
   ]
  },
  {
   "cell_type": "code",
   "execution_count": 140,
   "metadata": {},
   "outputs": [],
   "source": [
    "def get_recommendations(predictions, user):\n",
    "    recommendations = predictions.loc[user, :].sort_values(ascending=False)\n",
    "    return recommendations"
   ]
  },
  {
   "cell_type": "code",
   "execution_count": 141,
   "metadata": {
    "scrolled": true
   },
   "outputs": [
    {
     "data": {
      "text/plain": [
       "song_played\n",
       "Come Together                                     3.227213\n",
       "Get Back                                          1.535623\n",
       "Revolution                                        1.454309\n",
       "Let It Be                                         1.342273\n",
       "Eleanor Rigby                                     1.333844\n",
       "Back In the U.S.S.R.                              1.314354\n",
       "Hello Goodbye                                     1.219839\n",
       "A Day In The Life                                 1.189977\n",
       "Here Comes The Sun                                1.185243\n",
       "Ob-la-di, Ob-la-da                                1.169517\n",
       "Lucy In The Sky With Diamonds                     1.125175\n",
       "While My Guitar Gently Weeps                      1.110454\n",
       "Something                                         1.087716\n",
       "OH DARLING                                        1.052780\n",
       "Hey Jude                                          1.045710\n",
       "The Word                                          1.041675\n",
       "You're Going To Lose That Girl                    1.020185\n",
       "YOUR MOTHER SHOULD KNOW                           0.989050\n",
       "THE CONTINUING STORY OF BUNG                      0.973248\n",
       "Yesterday                                         0.965893\n",
       "I Saw Her Standing There                          0.938789\n",
       "Strawberry Fields Forever                         0.926925\n",
       "Help!                                             0.920904\n",
       "Blackbird                                         0.919961\n",
       "Ticket to Ride                                    0.918347\n",
       "Sun King                                          0.916911\n",
       "Sgt. Pepper/with A Little Help From My Friends    0.914685\n",
       "We Can Work It Out                                0.910434\n",
       "Can't Buy Me Love                                 0.907136\n",
       "Reprise / Day in the Life                         0.898307\n",
       "                                                    ...   \n",
       "Day Tripper                                       0.735434\n",
       "BAD BOY                                           0.730708\n",
       "Penny Lane                                        0.730373\n",
       "I'm Down                                          0.725224\n",
       "Things We Said Today                              0.723910\n",
       "IN MY LIFE                                        0.718496\n",
       "Magical Mystery Tour                              0.717985\n",
       "LITTLE CHILD                                      0.716662\n",
       "Eight Days A Week                                 0.714494\n",
       "I'll Follow The Sun                               0.712444\n",
       "The Long And Winding Road                         0.711996\n",
       "The Fool On The Hill                              0.700821\n",
       "ROCK AND ROLL MUSIC                               0.694490\n",
       "Maxwell's Silver Hammer                           0.690397\n",
       "Baby You're A Rich Man                            0.689969\n",
       "Two Of Us                                         0.688842\n",
       "Sgt. Pepper Inner Groove                          0.680764\n",
       "Cry For A Shadow                                  0.670798\n",
       "I've Just Seen A Face                             0.661762\n",
       "Fixing A Hole                                     0.660889\n",
       "I've Got A Feeling                                0.652922\n",
       "Rocky Raccoon                                     0.649233\n",
       "She's Leaving Home                                0.632080\n",
       "Across The Universe                               0.631474\n",
       "A Hard Day's Night                                0.628891\n",
       "Love Me Do                                        0.615776\n",
       "From Me To You                                    0.605892\n",
       "Don't Let Me Down                                 0.592002\n",
       "All You Need Is Love                              0.586672\n",
       "Roll Over Beethoven                               0.532370\n",
       "Name: 100, Length: 100, dtype: float64"
      ]
     },
     "execution_count": 141,
     "metadata": {},
     "output_type": "execute_result"
    }
   ],
   "source": [
    "get_recommendations(predictions, 100)"
   ]
  }
 ],
 "metadata": {
  "colab": {
   "collapsed_sections": [],
   "name": "song_recommendation.ipynb",
   "provenance": [],
   "version": "0.3.2"
  },
  "kernelspec": {
   "display_name": "Python 3",
   "language": "python",
   "name": "python3"
  },
  "language_info": {
   "codemirror_mode": {
    "name": "ipython",
    "version": 3
   },
   "file_extension": ".py",
   "mimetype": "text/x-python",
   "name": "python",
   "nbconvert_exporter": "python",
   "pygments_lexer": "ipython3",
   "version": "3.7.3"
  }
 },
 "nbformat": 4,
 "nbformat_minor": 1
}
